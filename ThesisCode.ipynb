{
 "cells": [
  {
   "cell_type": "markdown",
   "metadata": {},
   "source": [
    "## Using Word2Vec to Score Relatedness Between a Tweet and a Unigram Search Term\n",
    "***"
   ]
  },
  {
   "cell_type": "code",
   "execution_count": 1,
   "metadata": {},
   "outputs": [],
   "source": [
    "# Dataframe data structures\n",
    "import pandas as pd\n",
    "\n",
    "# Word2Vec functionality\n",
    "from gensim.models import Word2Vec\n",
    "\n",
    "# String manipulation libraries\n",
    "import re\n",
    "import string\n",
    "from nltk.tokenize.casual import reduce_lengthening\n",
    "from nltk.corpus import stopwords\n",
    "from nltk.stem import PorterStemmer\n",
    "\n",
    "# Math operations\n",
    "from scipy.spatial.distance import cosine\n",
    "from math import sqrt, cos, pi\n",
    "from scipy.stats import norm\n",
    "import numpy as np\n",
    "\n",
    "# Scoring and evaluation\n",
    "from sklearn.metrics import roc_auc_score, roc_curve\n",
    "\n",
    "# Visualization libraries\n",
    "import seaborn as sns\n",
    "import matplotlib.pyplot as plt\n",
    "%matplotlib inline"
   ]
  },
  {
   "cell_type": "markdown",
   "metadata": {},
   "source": [
    "### Importing Tweet Data\n",
    "***"
   ]
  },
  {
   "cell_type": "code",
   "execution_count": 2,
   "metadata": {},
   "outputs": [],
   "source": [
    "columns = ['tweet_id', 'timestamp', 'tweet_text', 'user_id',\n",
    "           'tweet_coords', 'tweet_coords_list', 'tweet_long', 'tweet_lat', 'location',\n",
    "           'enc_url', 'tweet_lang', 'hashtags']\n",
    "tweet_full = pd.read_csv(r'./tweetCoords.csv',\n",
    "                         header = None,\n",
    "                         names = columns,\n",
    "                         parse_dates = [1],\n",
    "                         index_col = 'timestamp')"
   ]
  },
  {
   "cell_type": "code",
   "execution_count": 3,
   "metadata": {},
   "outputs": [],
   "source": [
    "tweet_date = pd.to_datetime(\"2017-09-10 00:00:00\")\n",
    "date_delta = pd.Timedelta(\"24HR\")"
   ]
  },
  {
   "cell_type": "code",
   "execution_count": 4,
   "metadata": {},
   "outputs": [],
   "source": [
    "tweet_full_en = tweet_full[tweet_full['tweet_lang'] == 'en']"
   ]
  },
  {
   "cell_type": "code",
   "execution_count": 5,
   "metadata": {},
   "outputs": [],
   "source": [
    "tweet_text = tweet_full_en.loc[tweet_date:tweet_date + date_delta, \"tweet_text\"]"
   ]
  },
  {
   "cell_type": "markdown",
   "metadata": {},
   "source": [
    "### Helper Functions\n",
    "***"
   ]
  },
  {
   "cell_type": "code",
   "execution_count": 6,
   "metadata": {},
   "outputs": [],
   "source": [
    "tweet_stops = stopwords.words('english')\n",
    "stemmer = PorterStemmer()\n",
    "\n",
    "def clean_tweet(tweet):\n",
    "## takes input string and converts or removes characters depending on settings.\n",
    "## returns a string\n",
    "## convert case:\n",
    "    tweet = tweet.lower()\n",
    "## remove URLs:\n",
    "    tweet = re.sub('https?://\\S+', '', tweet)\n",
    "## remove @mentions, including those with a leading '-' or '.' : \n",
    "    tweet = re.sub('[-\\.]?@\\w+', '', tweet)\n",
    "## convert non-hashtag punctuation to whitespace:\n",
    "    tweet = tweet.translate(tweet.maketrans(string.punctuation.replace(\"#\", \"\"), \" \"*len(string.punctuation.replace(\"#\", \"\"))))\n",
    "## remove non-hashtag '#'.\n",
    "    tweet = re.sub('\\B#\\B', '', tweet)\n",
    "## remove 'amp', 'gt', 'lt', indicating decoded ampersand, greater-than, less-than characters\n",
    "    tweet = re.sub(r'\\b(amp|gt|lt)\\b', '', tweet)\n",
    "## remove non-hashtag numbers    \n",
    "    tweet = re.sub(r'\\b(?<!#)\\d+\\b', '', tweet)\n",
    "    return tweet\n",
    "\n",
    "def tokens_no_stopwords(tweet_as_string):\n",
    "# wrapper function that combines the tokenizer, cleaner, and stopword removal.\n",
    "# takes a string and returns a list of strings\n",
    "    cleaned_tweet = clean_tweet(tweet_as_string)\n",
    "    tweet_reduce_len = reduce_lengthening(cleaned_tweet)\n",
    "# tweet_as_tokens = word_tokenize(tweet_reduce_len)\n",
    "    tweet_as_tokens = tweet_reduce_len.split()\n",
    "    tweet_no_stops = [stemmer.stem(word) for word in tweet_as_tokens if word not in tweet_stops]\n",
    "    \n",
    "    return tweet_no_stops"
   ]
  },
  {
   "cell_type": "markdown",
   "metadata": {},
   "source": [
    "### Miscellaneous Tests:\n",
    "***"
   ]
  },
  {
   "cell_type": "code",
   "execution_count": 7,
   "metadata": {},
   "outputs": [
    {
     "data": {
      "text/plain": [
       "'This is some     text that has   char  in it'"
      ]
     },
     "execution_count": 7,
     "metadata": {},
     "output_type": "execute_result"
    }
   ],
   "source": [
    "punc_test = \"This is some (&) text$that has &*char$ in it\"\n",
    "punc_test.translate(punc_test.maketrans(string.punctuation.replace(\"#\", \"\"), \" \"*len(string.punctuation.replace(\"#\", \"\"))))"
   ]
  },
  {
   "cell_type": "code",
   "execution_count": 8,
   "metadata": {},
   "outputs": [
    {
     "data": {
      "text/plain": [
       "'This is some  textthat has char in it'"
      ]
     },
     "execution_count": 8,
     "metadata": {},
     "output_type": "execute_result"
    }
   ],
   "source": [
    "punc_test.translate(punc_test.maketrans('', '', string.punctuation.replace(\"#\", \"\")))"
   ]
  },
  {
   "cell_type": "code",
   "execution_count": 9,
   "metadata": {},
   "outputs": [
    {
     "name": "stdout",
     "output_type": "stream",
     "text": [
      "# #34 4#3 A#36 3 A! #hashtag\n",
      "# #34 4!3 A!36 3 A# #hashtag\n",
      "! #34 4#3 A#36 3 A# #hashtag\n"
     ]
    }
   ],
   "source": [
    "re_hash_test = '# #34 4#3 A#36 3 A# #hashtag'\n",
    "print(re.sub(r'\\b#\\B', '!', re_hash_test))\n",
    "print(re.sub(r'\\b#\\b', '!', re_hash_test))\n",
    "print(re.sub(r'\\B#\\B', '!', re_hash_test))"
   ]
  },
  {
   "cell_type": "code",
   "execution_count": 10,
   "metadata": {},
   "outputs": [
    {
     "data": {
      "text/plain": [
       "['tweet', '#1', '#hashtag', '#123', '#12345', 'apm', 'yooo']"
      ]
     },
     "execution_count": 10,
     "metadata": {},
     "output_type": "execute_result"
    }
   ],
   "source": [
    "text = \"this is a tweet # #### ####1 #hashtag #123 #12345 apm yooooo\"\n",
    "tokens_no_stopwords(text)"
   ]
  },
  {
   "cell_type": "code",
   "execution_count": 11,
   "metadata": {},
   "outputs": [],
   "source": [
    "ex_text = \"OOOOMMMMGGGGG This is the #1 worst THING HAPPENING IN 2017!!!!!! Power is out & Basement is flooded! #irma #hurricane @TV9 @my_friend https://my.domain.net\""
   ]
  },
  {
   "cell_type": "code",
   "execution_count": 12,
   "metadata": {},
   "outputs": [
    {
     "name": "stdout",
     "output_type": "stream",
     "text": [
      "OOOOMMMMGGGGG This is the #1 worst THING HAPPENING IN 2017!!!!!! Power is out & Basement is flooded! #irma #hurricane @TV9 @my_friend https://my.domain.net\n",
      "['oooommmmggggg', 'this', 'is', 'the', '#1', 'worst', 'thing', 'happening', 'in', '2017!!!!!!', 'power', 'is', 'out', '&', 'basement', 'is', 'flooded!', '#irma', '#hurricane', '@tv9', '@my_friend', 'https://my.domain.net']\n",
      "S: oooommmmggggg this is the #1 worst thing happening in 2017!!!!!! power is out & basement is flooded! #irma #hurricane @tv9 @my_friend https://my.domain.net\n",
      "1: oooommmmggggg this is the #1 worst thing happening in 2017!!!!!! power is out & basement is flooded! #irma #hurricane @tv9 @my_friend \n",
      "2: oooommmmggggg this is the #1 worst thing happening in 2017!!!!!! power is out & basement is flooded! #irma #hurricane   \n",
      "3: oooommmmggggg this is the #1 worst thing happening in 2017 power is out  basement is flooded #irma #hurricane   \n",
      "4: oooommmmggggg this is the #1 worst thing happening in 2017 power is out  basement is flooded #irma #hurricane   \n",
      "5: oooommmmggggg this is the #1 worst thing happening in 2017 power is out  basement is flooded #irma #hurricane   \n",
      "6: oooommmmggggg this is the #1 worst thing happening in  power is out  basement is flooded #irma #hurricane   \n",
      "['ooommmggg', '#1', 'worst', 'thing', 'happen', 'power', 'basement', 'flood', '#irma', '#hurrican']\n"
     ]
    }
   ],
   "source": [
    "tweet_test = ex_text\n",
    "print(tweet_test)\n",
    "tweet_test = tweet_test.lower()\n",
    "print(tweet_test.split())\n",
    "i = 0\n",
    "print(f\"S: {tweet_test}\"); i += 1\n",
    "\n",
    "# 1: remove URLs:\n",
    "tweet_test = re.sub('https?://\\S+', '', tweet_test)\n",
    "print(f\"{i}: {tweet_test}\"); i += 1\n",
    "\n",
    "# 2: remove @mentions, including those with a leading '-' or '.' : \n",
    "tweet_test = re.sub('[-\\.]?@\\w+', '', tweet_test)\n",
    "print(f\"{i}: {tweet_test}\"); i += 1\n",
    "\n",
    "# 3: remove punctuation, but not hashtags:\n",
    "tweet_test = tweet_test.translate(tweet_test.maketrans('', '', string.punctuation.replace(\"#\", \"\")))\n",
    "print(f\"{i}: {tweet_test}\"); i += 1\n",
    "\n",
    "# 4: remove non-hashtag '#'.\n",
    "tweet_test = re.sub('#\\B', '', tweet_test)\n",
    "print(f\"{i}: {tweet_test}\"); i += 1\n",
    "\n",
    "# 5: remove 'amp', 'gt', 'lt', indicating decoded ampersand, greater-than, less-than characters\n",
    "tweet_test = re.sub(r'\\b(amp|gt|lt)\\b', '', tweet_test)\n",
    "print(f\"{i}: {tweet_test}\"); i += 1\n",
    "\n",
    "# 6: drop numbers, but not hashtags\n",
    "tweet_test = re.sub(r'\\b(?<!#)\\d+\\b', '', tweet_test)\n",
    "print(f\"{i}: {tweet_test}\"); i += 1\n",
    "\n",
    "\n",
    "print(tokens_no_stopwords(tweet_test))"
   ]
  },
  {
   "cell_type": "code",
   "execution_count": 13,
   "metadata": {},
   "outputs": [],
   "source": [
    "tweet_len = tweet_text.groupby(tweet_text.str.split().apply(len)).size()"
   ]
  },
  {
   "cell_type": "code",
   "execution_count": 14,
   "metadata": {},
   "outputs": [],
   "source": [
    "tweet_len_post = tweet_text.apply(tokens_no_stopwords).apply(len).value_counts().sort_index()"
   ]
  },
  {
   "cell_type": "code",
   "execution_count": 15,
   "metadata": {},
   "outputs": [],
   "source": [
    "plt.style.use('bmh')\n",
    "plt.rc('text', usetex = True)\n",
    "plt.rc('font', family = 'serif')\n",
    "plt.rcParams.update({'font.size': 22})"
   ]
  },
  {
   "cell_type": "code",
   "execution_count": 16,
   "metadata": {
    "scrolled": false
   },
   "outputs": [
    {
     "data": {
      "image/png": "[encoded data removed]",
      "text/plain": [
       "<Figure size 1600x800 with 1 Axes>"
      ]
     },
     "metadata": {},
     "output_type": "display_data"
    }
   ],
   "source": [
    "fig_tweet_hist = plt.figure(figsize = (16, 8))\n",
    "plt.bar(tweet_len.index, tweet_len.values, alpha = .7, label = \"Tweets by length\")\n",
    "plt.bar(tweet_len_post.index, tweet_len_post.values, alpha = .7, label = \"Tweets by length (after cleaning)\")\n",
    "plt.xlabel(\"Quantity of Tokens Per Tweet\")\n",
    "plt.ylabel(\"Number of Tweets\")\n",
    "plt.title(\"Histogram of Tweets by Length (Token Quantity)\")\n",
    "plt.legend()\n",
    "plt.show()"
   ]
  },
  {
   "cell_type": "markdown",
   "metadata": {},
   "source": [
    "## Skip-Gram Analysis"
   ]
  },
  {
   "cell_type": "markdown",
   "metadata": {},
   "source": [
    "### Search Term"
   ]
  },
  {
   "cell_type": "code",
   "execution_count": 17,
   "metadata": {},
   "outputs": [],
   "source": [
    "search_term = 'irma'"
   ]
  },
  {
   "cell_type": "code",
   "execution_count": 18,
   "metadata": {},
   "outputs": [],
   "source": [
    "coded_tweets = pd.read_csv(r'./irmaTextCoding.csv')\n",
    "\n",
    "tweets_on_date = tweet_full_en.loc[tweet_date:tweet_date+date_delta]\n",
    "\n",
    "tweet_encoded = pd.concat([coded_tweets.reset_index(), tweets_on_date.iloc[:-1].reset_index()], axis = 1)"
   ]
  },
  {
   "cell_type": "markdown",
   "metadata": {},
   "source": [
    "### Comparison Functions"
   ]
  },
  {
   "cell_type": "markdown",
   "metadata": {},
   "source": [
    "Defines comparisons and a wrapper function that calls each based upon an associated keyword\n",
    "\n",
    "- Mean Cosine Similarity\n",
    "- Sum Cosine Similarity Over Square Root of Length\n",
    "- Dot Product of Tweet As Matrix Sum of Term Vectors and Search Term\n",
    "- Cosine Similarity of Tweet As Matrix Sum of Term Vectors and Search Term"
   ]
  },
  {
   "cell_type": "code",
   "execution_count": 19,
   "metadata": {},
   "outputs": [],
   "source": [
    "def meanCosSim(tweet, vector_set):\n",
    "    tweet_as_terms = tokens_no_stopwords(tweet)\n",
    "    score = 0\n",
    "    for i in tweet_as_terms:\n",
    "        if i in list(vector_set.wv.index_to_key):\n",
    "            score += vector_set.wv.similarity(i, search_term)\n",
    "    if len(tweet_as_terms) > 0:\n",
    "        score /= len(tweet_as_terms)\n",
    "    else:\n",
    "        score = 0\n",
    "    return score"
   ]
  },
  {
   "cell_type": "code",
   "execution_count": 20,
   "metadata": {},
   "outputs": [],
   "source": [
    "def sumCosSimSqrtSum(tweet, vector_set):\n",
    "    tweet_as_terms = tokens_no_stopwords(tweet)\n",
    "    score = 0\n",
    "    for i in tweet_as_terms:\n",
    "        if i in list(vector_set.wv.index_to_key):\n",
    "            score += vector_set.wv.similarity(i, search_term)\n",
    "    if len(tweet_as_terms) > 0:\n",
    "        score /= sqrt(len(tweet_as_terms))\n",
    "    else:\n",
    "        score = 0\n",
    "    return score"
   ]
  },
  {
   "cell_type": "code",
   "execution_count": 21,
   "metadata": {},
   "outputs": [],
   "source": [
    "def dotProductOfTweetMatrixTermVector(tweet, vector_set):\n",
    "    tweet_as_terms = tokens_no_stopwords(tweet)\n",
    "# initialize vector with dimensionality of the vector set.\n",
    "    vector_dim = len(vector_set.wv.vectors[0])\n",
    "    score_matrix = np.zeros(vector_dim, ) \n",
    "    \n",
    "# iterate over each word after processing. If the word is in the vocabulary,\n",
    "# add its vector's value to the score matrix.\n",
    "# this essentially treats a word not in the vocabulary as a zero-vector.\n",
    "    for i in tweet_as_terms:\n",
    "        if i in list(vector_set.wv.index_to_key):\n",
    "            score_matrix = np.add(score_matrix, vector_set.wv.get_vector(i))\n",
    "            \n",
    "# if the number of words remaining in the tweet after processing is equal to zero, return zero.\n",
    "# otherwise, take the dot product of the score vector, and the vector of the search term.\n",
    "    if len(tweet_as_terms) > 0:\n",
    "        score = np.dot(score_matrix, vector_set.wv.get_vector(search_term))\n",
    "    else:\n",
    "        score = 0\n",
    "    return score"
   ]
  },
  {
   "cell_type": "code",
   "execution_count": 22,
   "metadata": {},
   "outputs": [],
   "source": [
    "def cosSimOfTweetMatrixTermVector(tweet, vector_set):\n",
    "    tweet_as_terms = tokens_no_stopwords(tweet)\n",
    "    \n",
    "# initialize vector with dimensionality of the vector set.\n",
    "    vector_dim = len(vector_set.wv.vectors[0])\n",
    "    score_matrix = np.zeros(vector_dim, )\n",
    "    \n",
    "# iterate over each word after processing. If the word is in the vocabulary,\n",
    "# add its vector's value to the score matrix.\n",
    "# this essentially treats a word not in the vocabulary as a zero-vector.\n",
    "    for i in tweet_as_terms:\n",
    "        if i in list(vector_set.wv.index_to_key):\n",
    "            score_matrix = np.add(score_matrix, vector_set.wv.get_vector(i))\n",
    "\n",
    "# if the number of words remaining in the tweet after processing is equal to zero, return zero.\n",
    "# otherwise, take the pairwise cosine of the score vector and the vector of the search term.\n",
    "    if ((len(tweet_as_terms) > 0) & (np.all(score_matrix != np.zeros(vector_dim, )))):\n",
    "        score = 1 - cosine(score_matrix, vector_set.wv.get_vector(search_term))\n",
    "    else:\n",
    "        score = 0\n",
    "    return score"
   ]
  },
  {
   "cell_type": "markdown",
   "metadata": {},
   "source": [
    "Wrapper Function for the scalar comparison formulas:"
   ]
  },
  {
   "cell_type": "code",
   "execution_count": 23,
   "metadata": {},
   "outputs": [],
   "source": [
    "def scalarFunctions(tweet, vector_set, formula = 'dp'):\n",
    "    if(formula.upper() == 'DP'):\n",
    "        return dotProductOfTweetMatrixTermVector(tweet, vector_set)\n",
    "    elif(formula.upper() == 'MCS'):\n",
    "        return meanCosSim(tweet, vector_set)\n",
    "    elif(formula.upper() == 'SCSSC'):\n",
    "        return sumCosSimSqrtSum(tweet, vector_set)\n",
    "    elif(formula.upper() == 'CSTVS'):\n",
    "        return cosSimOfTweetMatrixTermVector(tweet, vector_set)\n",
    "    else:\n",
    "        return np.NaN"
   ]
  },
  {
   "cell_type": "markdown",
   "metadata": {},
   "source": [
    "This is the code training the vector model with optimal hyperparameter values"
   ]
  },
  {
   "cell_type": "code",
   "execution_count": 24,
   "metadata": {},
   "outputs": [
    {
     "data": {
      "text/plain": [
       "(2482287, 3224100)"
      ]
     },
     "execution_count": 24,
     "metadata": {},
     "output_type": "execute_result"
    }
   ],
   "source": [
    "# taking values from iterative test\n",
    "HD = 150\n",
    "MWC = 5\n",
    "WWS = 1\n",
    "NS = 1\n",
    "EP = 25\n",
    "tweet_text = tweet_full_en.loc[tweet_date:tweet_date + date_delta, \"tweet_text\"]\n",
    "tweets_tokens = tweet_text.apply(tokens_no_stopwords)\n",
    "\n",
    "opt_vector_model = Word2Vec(tweets_tokens, min_count = MWC, window = WWS, workers = 1, vector_size = HD, seed = 1, sg = 1, negative = NS)\n",
    "    \n",
    "# train the model over 10 epochs\n",
    "opt_vector_model.train(tweets_tokens, total_examples = len(tweet_text), epochs = EP)"
   ]
  },
  {
   "cell_type": "markdown",
   "metadata": {},
   "source": [
    "### AU-ROC Score"
   ]
  },
  {
   "cell_type": "code",
   "execution_count": null,
   "metadata": {},
   "outputs": [],
   "source": [
    "# Optimal parameters for Word2Vec:\n",
    "for i in ['dp', 'mcs', 'scssc', 'cstvs']:\n",
    "# create strings for column heads\n",
    "    sw = f'o-sw-{i}'\n",
    "    mmsw = f'MM-{sw}'\n",
    "    \n",
    "# Scoring tweets in this column:\n",
    "    tweet_encoded[sw] = tweet_encoded.tweet_text.apply(scalarFunctions, args = (opt_vector_model, i))\n",
    "                                                       \n",
    "# column of scores for this iteration|\n",
    "    tweet_scores = tweet_encoded[sw]\n",
    "\n",
    "# calculating Min Max Scaling for this column \n",
    "    tweet_encoded[mmsw] = ((tweet_scores - tweet_scores.min())* 100) / (tweet_scores.max() - tweet_scores.min())"
   ]
  },
  {
   "cell_type": "markdown",
   "metadata": {},
   "source": [
    "Graphs for Paper"
   ]
  },
  {
   "cell_type": "code",
   "execution_count": null,
   "metadata": {},
   "outputs": [],
   "source": [
    "plt.rc('text', usetex = True)\n",
    "plt.rc('font', family = 'serif')\n",
    "plt.rcParams.update({'font.size': 22})"
   ]
  },
  {
   "cell_type": "code",
   "execution_count": null,
   "metadata": {},
   "outputs": [],
   "source": [
    "sns.set_palette('colorblind')\n",
    "fig_roc_s = plt.figure(figsize = (12, 12), dpi = 100, facecolor = 'w')\n",
    "plt.xlabel(\"False Positive Rate\")\n",
    "plt.ylabel(\"True Positive Rate\")\n",
    "\n",
    "# line_list = {'d':\":\", 'o':\":\"}\n",
    "marker_list = {'dp':'o', 'mcs':'^', 'scssc':'s', 'cstvs':'P'}\n",
    "j = 'o'\n",
    "for i in ['dp', 'mcs', 'scssc', 'cstvs']:\n",
    "\n",
    "    fpr, tpr, thresholds = roc_curve(tweet_encoded['irma_rel'], tweet_encoded[f'MM-{j}-sw-{i}'])\n",
    "    auroc_score = round(roc_auc_score(tweet_encoded['irma_rel'], tweet_encoded[f'MM-o-sw-{i}']), 4)\n",
    "    label_text = f\"{i.upper()}, AU-ROC = {auroc_score}\"\n",
    "\n",
    "    plt.plot(fpr, tpr, label = label_text, linestyle = \":\", marker = marker_list.get(i), markevery = 200)\n",
    "\n",
    "plt.title(\"AU-ROC of Scalar Formulas\")\n",
    "plt.legend(loc = \"lower right\")\n",
    "plt.show()"
   ]
  },
  {
   "cell_type": "code",
   "execution_count": null,
   "metadata": {},
   "outputs": [],
   "source": [
    "tweet_times = tweet_encoded.set_index('timestamp')"
   ]
  },
  {
   "cell_type": "code",
   "execution_count": null,
   "metadata": {},
   "outputs": [],
   "source": [
    "tweet_times['oSWDPStd'] = (tweet_times['o-sw-dp'] - tweet_times['o-sw-dp'].mean())/tweet_times['o-sw-dp'].std()"
   ]
  },
  {
   "cell_type": "code",
   "execution_count": null,
   "metadata": {},
   "outputs": [],
   "source": [
    "tweet_times['oSWDPStdMM'] = ((tweet_times['oSWDPStd'] - tweet_times['oSWDPStd'].min())* 100) / (tweet_times['oSWDPStd'].max() - tweet_times['oSWDPStd'].min())"
   ]
  },
  {
   "cell_type": "code",
   "execution_count": null,
   "metadata": {},
   "outputs": [],
   "source": [
    "tweet_times['MMoDPNormStd']  = (tweet_times['MM-o-sw-dp'] - tweet_times['MM-o-sw-dp'].mean())/tweet_times['MM-o-sw-dp'].std()"
   ]
  },
  {
   "cell_type": "code",
   "execution_count": null,
   "metadata": {
    "scrolled": false
   },
   "outputs": [],
   "source": [
    "fig = plt.figure(figsize = (16, 8))\n",
    "\n",
    "ax1 = fig.add_subplot()\n",
    "\n",
    "sns.boxplot(x = tweet_times.index.hour, y = tweet_times['oSWDPStdMM'], color = 'lightblue')\n",
    "\n",
    "ax1.set_xlabel('Hour of day in GMT')\n",
    "ax1.set_ylabel('MinMax Score of Tweets')\n",
    "ax1.set_title('Distribution of Tweet Score by Hour')\n",
    "ax2 = ax1.twinx()\n",
    "ax2.plot(tweet_times.groupby(tweet_times.index.hour).count().iloc[:,0], label = 'Tweet Count', color = 'orange')\n",
    "ax2.set_ylabel('Count of Tweets per Hour')\n",
    "ax2.axvline(x = 13, label = 'Landfall Time', linestyle = ':', color = 'black')\n",
    "ax2.grid(visible = False)\n",
    "ax2.legend()\n",
    "plt.show()"
   ]
  },
  {
   "cell_type": "code",
   "execution_count": null,
   "metadata": {},
   "outputs": [],
   "source": []
  }
 ],
 "metadata": {
  "kernelspec": {
   "display_name": "Python 3 (ipykernel)",
   "language": "python",
   "name": "python3"
  },
  "language_info": {
   "codemirror_mode": {
    "name": "ipython",
    "version": 3
   },
   "file_extension": ".py",
   "mimetype": "text/x-python",
   "name": "python",
   "nbconvert_exporter": "python",
   "pygments_lexer": "ipython3",
   "version": "3.9.16"
  }
 },
 "nbformat": 4,
 "nbformat_minor": 2
}
