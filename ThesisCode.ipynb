{
 "cells": [
  {
   "cell_type": "code",
   "execution_count": 1,
   "metadata": {},
   "outputs": [],
   "source": [
    "import pandas as pd\n",
    "import numpy as np\n",
    "\n",
    "from gensim.models import Word2Vec\n",
    "\n",
    "import re\n",
    "import string\n",
    "from nltk.tokenize.casual import reduce_lengthening\n",
    "from nltk.corpus import stopwords\n",
    "from nltk.stem import PorterStemmer\n",
    "\n",
    "from scipy.spatial.distance import cosine\n",
    "from math import sqrt, cos, pi\n",
    "from scipy.stats import norm\n",
    "\n",
    "from sklearn.metrics import f1_score, precision_score, recall_score, roc_auc_score, roc_curve\n",
    "\n",
    "import pickle\n",
    "\n",
    "import networkx as nx\n",
    "import matplotlib.pyplot as plt\n",
    "%matplotlib inline"
   ]
  },
  {
   "cell_type": "markdown",
   "metadata": {},
   "source": [
    "## Importing Tweet Data\n",
    "***"
   ]
  },
  {
   "cell_type": "code",
   "execution_count": 2,
   "metadata": {},
   "outputs": [],
   "source": [
    "columns = ['tweet_id','timestamp','tweet_text','user_id',\n",
    "           'tweet_coords','tweet_coords_list','tweet_long','tweet_lat','location',\n",
    "           'enc_url','tweet_lang','hashtags']\n",
    "tweet_full = pd.read_csv(r'./tweetCoords.csv',\n",
    "                         header=None,\n",
    "                         names=columns,\n",
    "                         parse_dates=[1],\n",
    "                         infer_datetime_format=True,\n",
    "                         index_col='timestamp')"
   ]
  },
  {
   "cell_type": "code",
   "execution_count": 3,
   "metadata": {},
   "outputs": [],
   "source": [
    "# related_words = pd.DataFrame()\n",
    "tweet_date = pd.to_datetime(\"2017-09-10 00:00:00\")\n",
    "date_delta = pd.Timedelta(\"24HR\")"
   ]
  },
  {
   "cell_type": "code",
   "execution_count": 4,
   "metadata": {},
   "outputs": [],
   "source": [
    "tweet_full_en = tweet_full[tweet_full['tweet_lang'] == 'en']"
   ]
  },
  {
   "cell_type": "code",
   "execution_count": 5,
   "metadata": {},
   "outputs": [],
   "source": [
    "tweet_text = tweet_full_en.loc[tweet_date:tweet_date + date_delta,\"tweet_text\"]"
   ]
  },
  {
   "cell_type": "markdown",
   "metadata": {},
   "source": [
    "## Helper Functions\n",
    "***"
   ]
  },
  {
   "cell_type": "code",
   "execution_count": 6,
   "metadata": {},
   "outputs": [],
   "source": [
    "tweet_stops = stopwords.words('english')\n",
    "stemmer = PorterStemmer()\n",
    "\n",
    "def clean_tweet(tweet):\n",
    "##     takes input string and converts or removes characters depending on settings.\n",
    "##     returns a string\n",
    "##     convert case:\n",
    "    tweet = tweet.lower()\n",
    "##    remove URLs:\n",
    "    tweet = re.sub('https?://\\S+','',tweet)\n",
    "##     remove @mentions, including those with a leading '-' or '.' : \n",
    "    tweet = re.sub('[-\\.]?@\\w+','',tweet)\n",
    "##     remove non-hashtag punctuation:\n",
    "#     tweet = tweet.translate(tweet.maketrans('','',string.punctuation.replace(\"#\",\"\")))\n",
    "##     convert non-hashtag punctuation to whitespace:\n",
    "    tweet = tweet.translate(tweet.maketrans(string.punctuation.replace(\"#\",\"\"),\" \"*len(string.punctuation.replace(\"#\",\"\"))))\n",
    "#     remove non-hashtag '#'.\n",
    "    tweet = re.sub('\\B#\\B','',tweet)\n",
    "##     remove 'amp', 'gt', 'lt', indicating decoded ampersand, greater-than, less-than characters\n",
    "    tweet = re.sub(r'\\b(amp|gt|lt)\\b','',tweet)\n",
    "##     drop numbers and words of < 4 characters.\n",
    "#     tweet = re.sub(r'\\b(?<!#)\\w{1,3}\\b','',tweet)\n",
    "    tweet = re.sub(r'\\b(?<!#)\\d+\\b','',tweet)\n",
    "    return tweet\n",
    "\n",
    "def tokens_no_stopwords(tweet_as_string):\n",
    "#     wrapper function that combines the tokenizer, cleaner, and stopword removal.\n",
    "#     takes a string and returns a list of strings\n",
    "    cleaned_tweet = clean_tweet(tweet_as_string)\n",
    "    tweet_reduce_len = reduce_lengthening(cleaned_tweet)\n",
    "#     tweet_as_tokens = word_tokenize(tweet_reduce_len)\n",
    "    tweet_as_tokens = tweet_reduce_len.split()\n",
    "    tweet_no_stops = [stemmer.stem(word) for word in tweet_as_tokens if word not in tweet_stops]\n",
    "    \n",
    "    return tweet_no_stops"
   ]
  },
  {
   "cell_type": "markdown",
   "metadata": {},
   "source": [
    "## Miscellaneous Tests:\n",
    "***"
   ]
  },
  {
   "cell_type": "code",
   "execution_count": 7,
   "metadata": {},
   "outputs": [
    {
     "data": {
      "text/plain": [
       "'This is some     text that has   char  in it'"
      ]
     },
     "execution_count": 7,
     "metadata": {},
     "output_type": "execute_result"
    }
   ],
   "source": [
    "punc_test = \"This is some (&) text$that has &*char$ in it\"\n",
    "punc_test.translate(punc_test.maketrans(string.punctuation.replace(\"#\",\"\"),\" \"*len(string.punctuation.replace(\"#\",\"\"))))"
   ]
  },
  {
   "cell_type": "code",
   "execution_count": 8,
   "metadata": {},
   "outputs": [
    {
     "data": {
      "text/plain": [
       "'This is some  textthat has char in it'"
      ]
     },
     "execution_count": 8,
     "metadata": {},
     "output_type": "execute_result"
    }
   ],
   "source": [
    "punc_test.translate(punc_test.maketrans('','',string.punctuation.replace(\"#\",\"\")))"
   ]
  },
  {
   "cell_type": "code",
   "execution_count": 9,
   "metadata": {},
   "outputs": [
    {
     "name": "stdout",
     "output_type": "stream",
     "text": [
      "# #34 4#3 A#36 3 A! #hashtag\n",
      "# #34 4!3 A!36 3 A# #hashtag\n",
      "! #34 4#3 A#36 3 A# #hashtag\n"
     ]
    }
   ],
   "source": [
    "re_hash_test = '# #34 4#3 A#36 3 A# #hashtag'\n",
    "print(re.sub(r'\\b#\\B','!',re_hash_test))\n",
    "print(re.sub(r'\\b#\\b','!',re_hash_test))\n",
    "print(re.sub(r'\\B#\\B','!',re_hash_test))"
   ]
  },
  {
   "cell_type": "code",
   "execution_count": 10,
   "metadata": {},
   "outputs": [
    {
     "data": {
      "text/plain": [
       "['tweet', '#1', '#hashtag', '#123', '#12345', 'apm', 'yooo']"
      ]
     },
     "execution_count": 10,
     "metadata": {},
     "output_type": "execute_result"
    }
   ],
   "source": [
    "text=\"this is a tweet # #### ####1 #hashtag #123 #12345 apm yooooo\"\n",
    "tokens_no_stopwords(text)"
   ]
  },
  {
   "cell_type": "markdown",
   "metadata": {},
   "source": [
    "## Word/Token Statistics\n",
    "***"
   ]
  },
  {
   "cell_type": "code",
   "execution_count": 11,
   "metadata": {},
   "outputs": [],
   "source": [
    "word_counts = tweet_text.str.split(\"\\s+\").apply(pd.Series).stack().value_counts()"
   ]
  },
  {
   "cell_type": "code",
   "execution_count": 12,
   "metadata": {},
   "outputs": [],
   "source": [
    "tokenized_tweets = tweet_text.apply(tokens_no_stopwords)"
   ]
  },
  {
   "cell_type": "code",
   "execution_count": 13,
   "metadata": {},
   "outputs": [],
   "source": [
    "ex_text = \"OOOOMMMMGGGGG This is the #1 worst THING HAPPENING IN 2017!!!!!! Power is out & Basement is flooded! #irma #hurricane @TV9 @my_friend https;//my.domain.net\""
   ]
  },
  {
   "cell_type": "code",
   "execution_count": 14,
   "metadata": {},
   "outputs": [
    {
     "name": "stdout",
     "output_type": "stream",
     "text": [
      "OOOOMMMMGGGGG This is the #1 worst THING HAPPENING IN 2017!!!!!! Power is out & Basement is flooded! #irma #hurricane @TV9 @my_friend https;//my.domain.net\n",
      "['oooommmmggggg', 'this', 'is', 'the', '#1', 'worst', 'thing', 'happening', 'in', '2017!!!!!!', 'power', 'is', 'out', '&', 'basement', 'is', 'flooded!', '#irma', '#hurricane', '@tv9', '@my_friend', 'https;//my.domain.net']\n",
      "S: oooommmmggggg this is the #1 worst thing happening in 2017!!!!!! power is out & basement is flooded! #irma #hurricane @tv9 @my_friend https;//my.domain.net\n",
      "1: oooommmmggggg this is the #1 worst thing happening in 2017!!!!!! power is out & basement is flooded! #irma #hurricane @tv9 @my_friend https;//my.domain.net\n",
      "2: oooommmmggggg this is the #1 worst thing happening in 2017!!!!!! power is out & basement is flooded! #irma #hurricane   https;//my.domain.net\n",
      "3: oooommmmggggg this is the #1 worst thing happening in 2017 power is out  basement is flooded #irma #hurricane   httpsmydomainnet\n",
      "4: oooommmmggggg this is the #1 worst thing happening in 2017 power is out  basement is flooded #irma #hurricane   httpsmydomainnet\n",
      "5: oooommmmggggg this is the #1 worst thing happening in 2017 power is out  basement is flooded #irma #hurricane   httpsmydomainnet\n",
      "6: oooommmmggggg this   #1 worst thing happening  2017 power    basement  flooded #irma #hurricane   httpsmydomainnet\n",
      "7: oooommmmggggg this   #1 worst thing happening   power    basement  flooded #irma #hurricane   httpsmydomainnet\n"
     ]
    }
   ],
   "source": [
    "tweet_test = ex_text\n",
    "print(tweet_test)\n",
    "tweet_test = tweet_test.lower()\n",
    "# print(word_tokenize(tweet_test))\n",
    "print(tweet_test.split())\n",
    "i=0\n",
    "print(f\"S: {tweet_test}\");i+=1\n",
    "#     1: remove URLs:\n",
    "tweet_test = re.sub('https?://\\S+','',tweet_test)\n",
    "print(f\"{i}: {tweet_test}\");i+=1\n",
    "#     2: remove @mentions, including those with a leading '-' or '.' : \n",
    "tweet_test = re.sub('[-\\.]?@\\w+','',tweet_test)\n",
    "print(f\"{i}: {tweet_test}\");i+=1\n",
    "#     3: remove punctuation, but not hashtags:\n",
    "tweet_test = tweet_test.translate(tweet_test.maketrans('','',string.punctuation.replace(\"#\",\"\")))\n",
    "print(f\"{i}: {tweet_test}\");i+=1\n",
    "#     4: remove non-hashtag '#'.\n",
    "# tweet_test = re.sub('#\\B','',tweet_test)\n",
    "print(f\"{i}: {tweet_test}\");i+=1\n",
    "#     5: remove 'amp', 'gt', 'lt', indicating decoded ampersand, greater-than, less-than characters\n",
    "# tweet_test = re.sub(r'\\b(amp|gt|lt)\\b','',tweet_test)\n",
    "print(f\"{i}: {tweet_test}\");i+=1\n",
    "#     6: drop words of < 4 characters, but not hashtags\n",
    "tweet_test = re.sub(r'\\b(?<!#)\\w{1,3}\\b','',tweet_test)\n",
    "print(f\"{i}: {tweet_test}\");i+=1\n",
    "#     7: drop numbers, but not hashtags\n",
    "tweet_test = re.sub(r'\\b(?<!#)\\d+\\b','',tweet_test)\n",
    "print(f\"{i}: {tweet_test}\");i+=1\n",
    "\n",
    "# print(word_tokenize(tweet_test))\n",
    "# print(tokens_no_stopwords(tweet_test))"
   ]
  },
  {
   "cell_type": "code",
   "execution_count": 15,
   "metadata": {},
   "outputs": [],
   "source": [
    "pd.set_option('display.max_colwidth', None)"
   ]
  },
  {
   "cell_type": "code",
   "execution_count": 16,
   "metadata": {},
   "outputs": [
    {
     "name": "stdout",
     "output_type": "stream",
     "text": [
      "OOOMMMGGG This is the #1 worst THING HAPPENING IN 2017!!! Power is out & Basement is flooded! #irma #hurricane @TV9 @my_friend https;//my.domain.net\n"
     ]
    }
   ],
   "source": [
    "print(reduce_lengthening(ex_text))"
   ]
  },
  {
   "cell_type": "code",
   "execution_count": 17,
   "metadata": {},
   "outputs": [
    {
     "name": "stdout",
     "output_type": "stream",
     "text": [
      "['ooommmggg', '#1', 'worst', 'thing', 'happen', 'power', 'basement', 'flood', '#irma', '#hurrican', 'http', 'domain', 'net']\n"
     ]
    }
   ],
   "source": [
    "print(tokens_no_stopwords(ex_text))"
   ]
  },
  {
   "cell_type": "code",
   "execution_count": 18,
   "metadata": {},
   "outputs": [
    {
     "name": "stdout",
     "output_type": "stream",
     "text": [
      "timestamp\n",
      "2017-09-10 00:03:40    #NaturalRemedies This Is the Only Product That Kills Viruses, Fungal Infections,... https://t.co/XUXtJZ5cBY  https://t.co/G05XM19Deg\n",
      "2017-09-10 00:03:40                                                                           TAGGED 2017  #1 @ US 1-Biscayne Blvd. https://t.co/1foe57DVyC\n",
      "Name: tweet_text, dtype: object\n",
      "timestamp\n",
      "2017-09-10 00:03:40    [#naturalremedi, product, kill, virus, fungal, infect]\n",
      "2017-09-10 00:03:40                              [tag, #1, us, biscayn, blvd]\n",
      "Name: tweet_text, dtype: object\n"
     ]
    }
   ],
   "source": [
    "date_test = '2017-09-10 00:03:40'\n",
    "print(tweet_text.loc[date_test].apply(reduce_lengthening))\n",
    "print(tweet_text.loc[date_test].apply(tokens_no_stopwords))"
   ]
  },
  {
   "cell_type": "code",
   "execution_count": 19,
   "metadata": {},
   "outputs": [
    {
     "data": {
      "text/plain": [
       "Series([], Name: tweet_text, dtype: object)"
      ]
     },
     "execution_count": 19,
     "metadata": {},
     "output_type": "execute_result"
    }
   ],
   "source": [
    "tokenized_tweets[tokenized_tweets.apply(lambda x: '@' in x)]"
   ]
  },
  {
   "cell_type": "code",
   "execution_count": 20,
   "metadata": {},
   "outputs": [],
   "source": [
    "word_counts_full_token_clean = tweet_text.apply(tokens_no_stopwords).apply(pd.Series,dtype=pd.StringDtype()).stack().value_counts()"
   ]
  },
  {
   "cell_type": "code",
   "execution_count": 21,
   "metadata": {},
   "outputs": [
    {
     "data": {
      "text/plain": [
       "14439"
      ]
     },
     "execution_count": 21,
     "metadata": {},
     "output_type": "execute_result"
    }
   ],
   "source": [
    "word_counts_full_token_clean.size"
   ]
  },
  {
   "cell_type": "code",
   "execution_count": 22,
   "metadata": {},
   "outputs": [
    {
     "data": {
      "text/plain": [
       "florida           1809\n",
       "#hurricaneirma    1623\n",
       "fl                1587\n",
       "irma              1374\n",
       "hurrican          1360\n",
       "#irma             1193\n",
       "wind               946\n",
       "get                936\n",
       "report             886\n",
       "go                 830\n",
       "storm              775\n",
       "power              715\n",
       "miami              705\n",
       "rain               682\n",
       "mph                661\n",
       "like               657\n",
       "beach              656\n",
       "gust               655\n",
       "safe               633\n",
       "aso                544\n",
       "dtype: int64"
      ]
     },
     "execution_count": 22,
     "metadata": {},
     "output_type": "execute_result"
    }
   ],
   "source": [
    "word_counts_full_token_clean.head(20)"
   ]
  },
  {
   "cell_type": "code",
   "execution_count": 23,
   "metadata": {},
   "outputs": [
    {
     "data": {
      "text/plain": [
       "#sundayrunday               1\n",
       "user                        1\n",
       "shove                       1\n",
       "#manateenato                1\n",
       "#miaexplor                  1\n",
       "nato                        1\n",
       "christendavishairstylist    1\n",
       "tress                       1\n",
       "#wehaveonlyjustbegun        1\n",
       "250deduct                   1\n",
       "redesign                    1\n",
       "pert                        1\n",
       "#lakewoodranch              1\n",
       "doozi                       1\n",
       "#bookreport                 1\n",
       "#essay                      1\n",
       "#chapterquiz                1\n",
       "#tmw                        1\n",
       "#nikon                      1\n",
       "kw                          1\n",
       "dtype: int64"
      ]
     },
     "execution_count": 23,
     "metadata": {},
     "output_type": "execute_result"
    }
   ],
   "source": [
    "word_counts_full_token_clean.tail(20)"
   ]
  },
  {
   "cell_type": "code",
   "execution_count": 24,
   "metadata": {},
   "outputs": [],
   "source": [
    "tweet_len = tweet_text.groupby(tweet_text.str.split().apply(len)).size()"
   ]
  },
  {
   "cell_type": "code",
   "execution_count": 25,
   "metadata": {},
   "outputs": [],
   "source": [
    "tweet_len_post = tweet_text.apply(tokens_no_stopwords).apply(len).value_counts().sort_index()"
   ]
  },
  {
   "cell_type": "code",
   "execution_count": 26,
   "metadata": {},
   "outputs": [
    {
     "data": {
      "text/plain": [
       "15971"
      ]
     },
     "execution_count": 26,
     "metadata": {},
     "output_type": "execute_result"
    }
   ],
   "source": [
    "tweet_len_post[tweet_len_post.index <= 10].sum()"
   ]
  },
  {
   "cell_type": "code",
   "execution_count": 27,
   "metadata": {},
   "outputs": [
    {
     "data": {
      "text/plain": [
       "19089"
      ]
     },
     "execution_count": 27,
     "metadata": {},
     "output_type": "execute_result"
    }
   ],
   "source": [
    "tweet_len_post.sum()"
   ]
  },
  {
   "cell_type": "code",
   "execution_count": 28,
   "metadata": {},
   "outputs": [
    {
     "data": {
      "text/plain": [
       "tweet_text\n",
       "1       37\n",
       "2      342\n",
       "3      622\n",
       "4      753\n",
       "5      815\n",
       "6      911\n",
       "7      956\n",
       "8     1052\n",
       "9     1121\n",
       "10    1022\n",
       "11    1020\n",
       "12    1040\n",
       "13     988\n",
       "14    1005\n",
       "15    1308\n",
       "16    1112\n",
       "17     876\n",
       "18     862\n",
       "19     736\n",
       "20     587\n",
       "21     493\n",
       "22     349\n",
       "23     317\n",
       "24     239\n",
       "25     151\n",
       "26     163\n",
       "27      70\n",
       "28      68\n",
       "29      33\n",
       "30      21\n",
       "31      12\n",
       "32       6\n",
       "33       2\n",
       "Name: tweet_text, dtype: int64"
      ]
     },
     "execution_count": 28,
     "metadata": {},
     "output_type": "execute_result"
    }
   ],
   "source": [
    "tweet_len"
   ]
  },
  {
   "cell_type": "code",
   "execution_count": 29,
   "metadata": {
    "scrolled": false
   },
   "outputs": [
    {
     "data": {
      "text/plain": [
       "0       91\n",
       "1      874\n",
       "2     1402\n",
       "3     1565\n",
       "4     1745\n",
       "5     1854\n",
       "6     1800\n",
       "7     1812\n",
       "8     1865\n",
       "9     1684\n",
       "10    1279\n",
       "11    1278\n",
       "12     870\n",
       "13     526\n",
       "14     206\n",
       "15     117\n",
       "16      73\n",
       "17      26\n",
       "18      14\n",
       "19       6\n",
       "20       2\n",
       "Name: tweet_text, dtype: int64"
      ]
     },
     "execution_count": 29,
     "metadata": {},
     "output_type": "execute_result"
    }
   ],
   "source": [
    "tweet_len_post"
   ]
  },
  {
   "cell_type": "code",
   "execution_count": 30,
   "metadata": {},
   "outputs": [
    {
     "data": {
      "text/plain": [
       "15971"
      ]
     },
     "execution_count": 30,
     "metadata": {},
     "output_type": "execute_result"
    }
   ],
   "source": [
    "tweet_len_post[tweet_len_post.index < 11].sum()"
   ]
  },
  {
   "cell_type": "code",
   "execution_count": 31,
   "metadata": {},
   "outputs": [],
   "source": [
    "# tweet_len_post[tweet_len_post.index < 11].sum()/tweet_len_post.sum()"
   ]
  },
  {
   "cell_type": "code",
   "execution_count": 32,
   "metadata": {},
   "outputs": [],
   "source": [
    "plt.style.use('bmh')\n",
    "plt.rc('text', usetex=True)\n",
    "plt.rc('font', family='serif')"
   ]
  },
  {
   "cell_type": "code",
   "execution_count": 33,
   "metadata": {
    "scrolled": false
   },
   "outputs": [
    {
     "data": {
      "image/png": "[encoded data removed]",
      "text/plain": [
       "<Figure size 1600x800 with 1 Axes>"
      ]
     },
     "metadata": {},
     "output_type": "display_data"
    }
   ],
   "source": [
    "fig_tweet_hist = plt.figure(figsize=(16,8))\n",
    "plt.bar(tweet_len.index,tweet_len.values,alpha=.7,label=\"Tweets by length\")\n",
    "plt.bar(tweet_len_post.index,tweet_len_post.values,alpha=.7,label=\"Tweets by length (after cleaning)\")\n",
    "plt.xlabel(\"Quantity of Tokens Per Tweet\")\n",
    "plt.ylabel(\"Number of Tweets\")\n",
    "plt.title(\"Histogram of Tweets by Length (Token Quantity)\")\n",
    "plt.legend()\n",
    "plt.show()\n",
    "#fig_tweet_hist.savefig(f'./figures/TweetsByLength.pdf',bbox_inches='tight')"
   ]
  },
  {
   "cell_type": "markdown",
   "metadata": {},
   "source": [
    "## Skip-Gram"
   ]
  },
  {
   "cell_type": "markdown",
   "metadata": {},
   "source": [
    "### Search Term"
   ]
  },
  {
   "cell_type": "code",
   "execution_count": 34,
   "metadata": {},
   "outputs": [],
   "source": [
    "search_term = 'irma'"
   ]
  },
  {
   "cell_type": "markdown",
   "metadata": {},
   "source": [
    "### Window Size: 1-10"
   ]
  },
  {
   "cell_type": "code",
   "execution_count": 35,
   "metadata": {},
   "outputs": [],
   "source": [
    "coded_tweets = pd.read_csv(r'./irmaTextCoding.csv')\n",
    "\n",
    "tweets_on_date = tweet_full_en.loc[tweet_date:tweet_date+date_delta]\n",
    "\n",
    "tweet_encoded = pd.concat([coded_tweets.reset_index(),tweets_on_date.iloc[:-1].reset_index()],axis=1)"
   ]
  },
  {
   "cell_type": "markdown",
   "metadata": {},
   "source": [
    "### Comparison Functions"
   ]
  },
  {
   "cell_type": "markdown",
   "metadata": {},
   "source": [
    "Defines comparisons and a wrapper function that calls each based upon an associated keyword\n",
    "\n",
    "- Mean Cosine Similarity\n",
    "- Sum Cosine Similarity Over Square Root of Length\n",
    "- Dot Product of Tweet As Matrix Sum of Term Vectors and Search Term\n",
    "- Cosine Similarity of Tweet As Matrix Sum of Term Vectors and Search Term"
   ]
  },
  {
   "cell_type": "code",
   "execution_count": 36,
   "metadata": {},
   "outputs": [],
   "source": [
    "def meanCosSim(tweet,vector_set):\n",
    "    tweet_as_terms = tokens_no_stopwords(tweet)\n",
    "    score = 0\n",
    "    for i in tweet_as_terms:\n",
    "        if i in list(vector_set.wv.index_to_key):\n",
    "            score += vector_set.wv.similarity(i,search_term)\n",
    "    if len(tweet_as_terms) > 0:\n",
    "        score /= len(tweet_as_terms)\n",
    "    else:\n",
    "        score = 0\n",
    "    return score"
   ]
  },
  {
   "cell_type": "code",
   "execution_count": 37,
   "metadata": {},
   "outputs": [],
   "source": [
    "def sumCosSimSqrtSum(tweet,vector_set):\n",
    "    tweet_as_terms = tokens_no_stopwords(tweet)\n",
    "    score = 0\n",
    "    for i in tweet_as_terms:\n",
    "        if i in list(vector_set.wv.index_to_key):\n",
    "            score += vector_set.wv.similarity(i,search_term)\n",
    "    if len(tweet_as_terms) > 0:\n",
    "        score /= sqrt(len(tweet_as_terms))\n",
    "    else:\n",
    "        score = 0\n",
    "    return score"
   ]
  },
  {
   "cell_type": "code",
   "execution_count": 38,
   "metadata": {},
   "outputs": [],
   "source": [
    "def dotProductOfTweetMatrixTermVector(tweet,vector_set):\n",
    "    tweet_as_terms = tokens_no_stopwords(tweet)\n",
    "#     initialize vector with dimensionality of the vector set.\n",
    "    vector_dim = len(vector_set.wv.vectors[0])\n",
    "    score_matrix = np.zeros(vector_dim,) \n",
    "#     iterate over each word after processing. If the word is in the vocabulary,\n",
    "#     add its vector's value to the score matrix.\n",
    "#     this essentially treats a word not in the vocabulary as a zero-vector.\n",
    "    for i in tweet_as_terms:\n",
    "        if i in list(vector_set.wv.index_to_key):\n",
    "            score_matrix = np.add(score_matrix,vector_set.wv.get_vector(i))\n",
    "#     if the number of words remaining in the tweet after processing is equal to zero, return zero.\n",
    "#     otherwise, take the dot product of the score vector, and the vector of the search term.\n",
    "    if len(tweet_as_terms) > 0:\n",
    "        score = np.dot(score_matrix,vector_set.wv.get_vector(search_term))\n",
    "    else:\n",
    "        score = 0\n",
    "    return score"
   ]
  },
  {
   "cell_type": "code",
   "execution_count": 39,
   "metadata": {},
   "outputs": [],
   "source": [
    "def cosSimOfTweetMatrixTermVector(tweet,vector_set):\n",
    "    tweet_as_terms = tokens_no_stopwords(tweet)\n",
    "#     initialize vector with dimensionality of the vector set.\n",
    "    vector_dim = len(vector_set.wv.vectors[0])\n",
    "    score_matrix = np.zeros(vector_dim,) \n",
    "#     iterate over each word after processing. If the word is in the vocabulary,\n",
    "#     add its vector's value to the score matrix.\n",
    "#     this essentially treats a word not in the vocabulary as a zero-vector.\n",
    "    for i in tweet_as_terms:\n",
    "        if i in list(vector_set.wv.index_to_key):\n",
    "            score_matrix = np.add(score_matrix,vector_set.wv.get_vector(i))\n",
    "#     if the number of words remaining in the tweet after processing is equal to zero, return zero.\n",
    "#     otherwise, take the pairwise cosine of the score vector and the vector of the search term.\n",
    "    if ((len(tweet_as_terms) > 0) & (np.all(score_matrix != np.zeros(vector_dim,)))):\n",
    "        score = 1 - cosine(score_matrix,vector_set.wv.get_vector(search_term))\n",
    "    else:\n",
    "        score = 0\n",
    "    return score"
   ]
  },
  {
   "cell_type": "markdown",
   "metadata": {},
   "source": [
    "Wrapper Function for the scalar comparison formulas:"
   ]
  },
  {
   "cell_type": "code",
   "execution_count": 40,
   "metadata": {},
   "outputs": [],
   "source": [
    "def scalarFunctions(tweet,vector_set,formula='dp'):\n",
    "    if(formula.upper() == 'DP'):\n",
    "        return dotProductOfTweetMatrixTermVector(tweet,vector_set)\n",
    "    elif(formula.upper() == 'MCS'):\n",
    "        return meanCosSim(tweet,vector_set)\n",
    "    elif(formula.upper() == 'SCSSC'):\n",
    "        return sumCosSimSqrtSum(tweet,vector_set)\n",
    "    elif(formula.upper() == 'CSTVS'):\n",
    "        return cosSimOfTweetMatrixTermVector(tweet,vector_set)\n",
    "    else:\n",
    "        return np.NaN"
   ]
  },
  {
   "cell_type": "code",
   "execution_count": 41,
   "metadata": {},
   "outputs": [
    {
     "data": {
      "text/plain": [
       "(2482287, 3224100)"
      ]
     },
     "execution_count": 41,
     "metadata": {},
     "output_type": "execute_result"
    }
   ],
   "source": [
    "# taking values from iterative test\n",
    "HD=150\n",
    "MWC=5\n",
    "WWS=1\n",
    "NS=1\n",
    "EP=25\n",
    "tweet_text = tweet_full_en.loc[tweet_date:tweet_date + date_delta,\"tweet_text\"]\n",
    "tweets_tokens = tweet_text.apply(tokens_no_stopwords)\n",
    "\n",
    "opt_vector_model = Word2Vec(tweets_tokens, min_count=MWC, window=WWS, workers=1, vector_size=HD, seed=1, sg=1, negative=NS)\n",
    "    \n",
    "# train the model over 10 epochs\n",
    "opt_vector_model.train(tweets_tokens, total_examples=len(tweet_text), epochs=EP)"
   ]
  },
  {
   "cell_type": "code",
   "execution_count": 42,
   "metadata": {},
   "outputs": [
    {
     "data": {
      "text/plain": [
       "7.854729709639657"
      ]
     },
     "execution_count": 42,
     "metadata": {},
     "output_type": "execute_result"
    }
   ],
   "source": [
    "mt3_tweet = \"check out what the storm did last night!\"\n",
    "scalarFunctions(mt3_tweet,opt_vector_model,'dp')"
   ]
  },
  {
   "cell_type": "code",
   "execution_count": 43,
   "metadata": {},
   "outputs": [],
   "source": [
    "tweet_text = tweet_full_en.loc[tweet_date:tweet_date + date_delta,\"tweet_text\"]\n",
    "tweets_tokens = tweet_text.apply(tokens_no_stopwords)\n",
    "\n",
    "def_vector_model = Word2Vec(tweets_tokens, seed=1, sg=1)\n",
    "    \n",
    "# train the model over 10 epochs\n",
    "#def_vector_model.train(tweets_tokens, total_examples=len(tweet_text), epochs=10)"
   ]
  },
  {
   "cell_type": "markdown",
   "metadata": {},
   "source": [
    "### AU-ROC Score"
   ]
  },
  {
   "cell_type": "code",
   "execution_count": 44,
   "metadata": {},
   "outputs": [],
   "source": [
    "# default parameters for Word2Vec:\n",
    "for i in ['dp','mcs','scssc','cstvs']:\n",
    "#     create strings for column heads\n",
    "    sw = f'd-sw-{i}'\n",
    "    mmsw = f'MM-{sw}'\n",
    "    \n",
    "#     Scoring tweets in this column:\n",
    "    tweet_encoded[sw] = tweet_encoded.tweet_text.apply(scalarFunctions,args=(def_vector_model,i))\n",
    "                                                       \n",
    "#     column of scores for this iteration|\n",
    "    tweet_scores = tweet_encoded[sw]\n",
    "\n",
    "#     calculating Min Max Scaling for this column \n",
    "    tweet_encoded[mmsw] = ((tweet_scores - tweet_scores.min())* 100) / (tweet_scores.max() - tweet_scores.min())"
   ]
  },
  {
   "cell_type": "code",
   "execution_count": 45,
   "metadata": {},
   "outputs": [],
   "source": [
    "# Optimal parameters for Word2Vec:\n",
    "for i in ['dp','mcs','scssc','cstvs']:\n",
    "#     create strings for column heads\n",
    "    sw = f'o-sw-{i}'\n",
    "    mmsw = f'MM-{sw}'\n",
    "    \n",
    "#     Scoring tweets in this column:\n",
    "    tweet_encoded[sw] = tweet_encoded.tweet_text.apply(scalarFunctions,args=(opt_vector_model,i))\n",
    "                                                       \n",
    "#     column of scores for this iteration|\n",
    "    tweet_scores = tweet_encoded[sw]\n",
    "\n",
    "#     calculating Min Max Scaling for this column \n",
    "    tweet_encoded[mmsw] = ((tweet_scores - tweet_scores.min())* 100) / (tweet_scores.max() - tweet_scores.min())"
   ]
  },
  {
   "cell_type": "code",
   "execution_count": 46,
   "metadata": {},
   "outputs": [
    {
     "data": {
      "text/plain": [
       "Index(['index', 'tweet_id', 'irma_rel', 'timestamp', 'tweet_id', 'tweet_text',\n",
       "       'user_id', 'tweet_coords', 'tweet_coords_list', 'tweet_long',\n",
       "       'tweet_lat', 'location', 'enc_url', 'tweet_lang', 'hashtags', 'd-sw-dp',\n",
       "       'MM-d-sw-dp', 'd-sw-mcs', 'MM-d-sw-mcs', 'd-sw-scssc', 'MM-d-sw-scssc',\n",
       "       'd-sw-cstvs', 'MM-d-sw-cstvs', 'o-sw-dp', 'MM-o-sw-dp', 'o-sw-mcs',\n",
       "       'MM-o-sw-mcs', 'o-sw-scssc', 'MM-o-sw-scssc', 'o-sw-cstvs',\n",
       "       'MM-o-sw-cstvs'],\n",
       "      dtype='object')"
      ]
     },
     "execution_count": 46,
     "metadata": {},
     "output_type": "execute_result"
    }
   ],
   "source": [
    "tweet_encoded.columns"
   ]
  },
  {
   "cell_type": "code",
   "execution_count": 47,
   "metadata": {
    "scrolled": true
   },
   "outputs": [
    {
     "data": {
      "text/plain": [
       "0.30685297"
      ]
     },
     "execution_count": 47,
     "metadata": {},
     "output_type": "execute_result"
    }
   ],
   "source": [
    "opt_vector_model.wv.similarity('irma','storm')"
   ]
  },
  {
   "cell_type": "code",
   "execution_count": 48,
   "metadata": {},
   "outputs": [
    {
     "data": {
      "text/html": [
       "<div>\n",
       "<style scoped>\n",
       "    .dataframe tbody tr th:only-of-type {\n",
       "        vertical-align: middle;\n",
       "    }\n",
       "\n",
       "    .dataframe tbody tr th {\n",
       "        vertical-align: top;\n",
       "    }\n",
       "\n",
       "    .dataframe thead th {\n",
       "        text-align: right;\n",
       "    }\n",
       "</style>\n",
       "<table border=\"1\" class=\"dataframe\">\n",
       "  <thead>\n",
       "    <tr style=\"text-align: right;\">\n",
       "      <th></th>\n",
       "      <th>index</th>\n",
       "      <th>tweet_id</th>\n",
       "      <th>irma_rel</th>\n",
       "      <th>timestamp</th>\n",
       "      <th>tweet_id</th>\n",
       "      <th>tweet_text</th>\n",
       "      <th>user_id</th>\n",
       "      <th>tweet_coords</th>\n",
       "      <th>tweet_coords_list</th>\n",
       "      <th>tweet_long</th>\n",
       "      <th>...</th>\n",
       "      <th>d-sw-cstvs</th>\n",
       "      <th>MM-d-sw-cstvs</th>\n",
       "      <th>o-sw-dp</th>\n",
       "      <th>MM-o-sw-dp</th>\n",
       "      <th>o-sw-mcs</th>\n",
       "      <th>MM-o-sw-mcs</th>\n",
       "      <th>o-sw-scssc</th>\n",
       "      <th>MM-o-sw-scssc</th>\n",
       "      <th>o-sw-cstvs</th>\n",
       "      <th>MM-o-sw-cstvs</th>\n",
       "    </tr>\n",
       "  </thead>\n",
       "  <tbody>\n",
       "    <tr>\n",
       "      <th>133</th>\n",
       "      <td>133</td>\n",
       "      <td>906670141836025857</td>\n",
       "      <td>1</td>\n",
       "      <td>2017-09-10 00:06:21</td>\n",
       "      <td>906670141836025857</td>\n",
       "      <td>These tornado warnings have me like</td>\n",
       "      <td>338030439</td>\n",
       "      <td>NaN</td>\n",
       "      <td>[[[-80.352067, 25.923399], [-80.352067, 25.957164], [-80.293194, 25.957164], [-80.293194, 25.923399]]]</td>\n",
       "      <td>-80.3226</td>\n",
       "      <td>...</td>\n",
       "      <td>0.556098</td>\n",
       "      <td>55.609846</td>\n",
       "      <td>7.720579</td>\n",
       "      <td>20.184346</td>\n",
       "      <td>0.145674</td>\n",
       "      <td>25.112554</td>\n",
       "      <td>0.252315</td>\n",
       "      <td>31.113840</td>\n",
       "      <td>0.221984</td>\n",
       "      <td>35.851496</td>\n",
       "    </tr>\n",
       "    <tr>\n",
       "      <th>5518</th>\n",
       "      <td>5518</td>\n",
       "      <td>906769881785401344</td>\n",
       "      <td>0</td>\n",
       "      <td>2017-09-10 06:42:41</td>\n",
       "      <td>906769881785401344</td>\n",
       "      <td>This will literally always be my favorite video ever https://t.co/v2xpiwQPiT</td>\n",
       "      <td>772791458</td>\n",
       "      <td>NaN</td>\n",
       "      <td>[[[-80.456153, 25.624969], [-80.456153, 25.641133], [-80.41449, 25.641133], [-80.41449, 25.624969]]]</td>\n",
       "      <td>-80.4353</td>\n",
       "      <td>...</td>\n",
       "      <td>0.653290</td>\n",
       "      <td>65.328989</td>\n",
       "      <td>7.720055</td>\n",
       "      <td>20.183434</td>\n",
       "      <td>0.152616</td>\n",
       "      <td>25.721026</td>\n",
       "      <td>0.341259</td>\n",
       "      <td>35.943869</td>\n",
       "      <td>0.247568</td>\n",
       "      <td>37.960952</td>\n",
       "    </tr>\n",
       "    <tr>\n",
       "      <th>8247</th>\n",
       "      <td>8247</td>\n",
       "      <td>906874320080838656</td>\n",
       "      <td>0</td>\n",
       "      <td>2017-09-10 13:37:41</td>\n",
       "      <td>906874320080838656</td>\n",
       "      <td>Never thought I d say this, but turns out this isn t the time for @johnlegend Changing my shirt now.  https://t.co/T91uCxg16z</td>\n",
       "      <td>606573953</td>\n",
       "      <td>NaN</td>\n",
       "      <td>[[[-82.728681, 27.808138], [-82.728681, 27.826339], [-82.708134, 27.826339], [-82.708134, 27.808138]]]</td>\n",
       "      <td>-82.7184</td>\n",
       "      <td>...</td>\n",
       "      <td>0.721526</td>\n",
       "      <td>72.152643</td>\n",
       "      <td>7.728704</td>\n",
       "      <td>20.198476</td>\n",
       "      <td>0.131311</td>\n",
       "      <td>23.853559</td>\n",
       "      <td>0.347417</td>\n",
       "      <td>36.278282</td>\n",
       "      <td>0.224085</td>\n",
       "      <td>36.024717</td>\n",
       "    </tr>\n",
       "    <tr>\n",
       "      <th>8256</th>\n",
       "      <td>8256</td>\n",
       "      <td>906874548401741824</td>\n",
       "      <td>1</td>\n",
       "      <td>2017-09-10 13:38:35</td>\n",
       "      <td>906874548401741824</td>\n",
       "      <td>The Waffle House Index is limited menu for the duration and they ll close at 2 PM today until  https://t.co/gH1uzjbkBY</td>\n",
       "      <td>32508352</td>\n",
       "      <td>[30.374088,-84.292935]</td>\n",
       "      <td>[[[-84.386548, 30.365093], [-84.386548, 30.587338], [-84.1458, 30.587338], [-84.1458, 30.365093]]]</td>\n",
       "      <td>-84.2929</td>\n",
       "      <td>...</td>\n",
       "      <td>0.719880</td>\n",
       "      <td>71.987965</td>\n",
       "      <td>7.721850</td>\n",
       "      <td>20.186556</td>\n",
       "      <td>0.115649</td>\n",
       "      <td>22.480625</td>\n",
       "      <td>0.346946</td>\n",
       "      <td>36.252703</td>\n",
       "      <td>0.199966</td>\n",
       "      <td>34.036083</td>\n",
       "    </tr>\n",
       "    <tr>\n",
       "      <th>8812</th>\n",
       "      <td>8812</td>\n",
       "      <td>906882630246912005</td>\n",
       "      <td>1</td>\n",
       "      <td>2017-09-10 14:10:42</td>\n",
       "      <td>906882630246912005</td>\n",
       "      <td>IF I DONT HAVE POWER FOR THE PACKER GAME SO HELP ME https://t.co/XkYpvC4CY2</td>\n",
       "      <td>44637536</td>\n",
       "      <td>NaN</td>\n",
       "      <td>[[[-80.256457, 26.896996], [-80.256457, 26.957201], [-80.172692, 26.957201], [-80.172692, 26.896996]]]</td>\n",
       "      <td>-80.2146</td>\n",
       "      <td>...</td>\n",
       "      <td>0.702064</td>\n",
       "      <td>70.206439</td>\n",
       "      <td>7.729650</td>\n",
       "      <td>20.200121</td>\n",
       "      <td>0.135666</td>\n",
       "      <td>24.235241</td>\n",
       "      <td>0.303357</td>\n",
       "      <td>33.885663</td>\n",
       "      <td>0.260159</td>\n",
       "      <td>38.999126</td>\n",
       "    </tr>\n",
       "    <tr>\n",
       "      <th>9349</th>\n",
       "      <td>9349</td>\n",
       "      <td>906892510118793217</td>\n",
       "      <td>1</td>\n",
       "      <td>2017-09-10 14:49:58</td>\n",
       "      <td>906892510118793217</td>\n",
       "      <td>Last nights #hurricane dinner. Great memories with cinbark41 on this trip tp #pasorobles. Nice  https://t.co/Yb5PHfUMFg</td>\n",
       "      <td>29485348</td>\n",
       "      <td>[26.6318,-81.8571]</td>\n",
       "      <td>[[[-81.895498, 26.564625], [-81.895498, 26.679673], [-81.750855, 26.679673], [-81.750855, 26.564625]]]</td>\n",
       "      <td>-81.8571</td>\n",
       "      <td>...</td>\n",
       "      <td>0.771635</td>\n",
       "      <td>77.163537</td>\n",
       "      <td>7.722311</td>\n",
       "      <td>20.187358</td>\n",
       "      <td>0.072574</td>\n",
       "      <td>18.704870</td>\n",
       "      <td>0.240702</td>\n",
       "      <td>30.483203</td>\n",
       "      <td>0.176408</td>\n",
       "      <td>32.093698</td>\n",
       "    </tr>\n",
       "    <tr>\n",
       "      <th>13235</th>\n",
       "      <td>13235</td>\n",
       "      <td>906945083005718533</td>\n",
       "      <td>1</td>\n",
       "      <td>2017-09-10 18:18:52</td>\n",
       "      <td>906945083005718533</td>\n",
       "      <td>The beautiful Brickell Avenue literally looking like a river: https://t.co/d0iktpqQYU</td>\n",
       "      <td>53461892</td>\n",
       "      <td>NaN</td>\n",
       "      <td>[[[-82.410125, 27.965019], [-82.410125, 28.031093], [-82.326519, 28.031093], [-82.326519, 27.965019]]]</td>\n",
       "      <td>-82.3683</td>\n",
       "      <td>...</td>\n",
       "      <td>0.753639</td>\n",
       "      <td>75.363909</td>\n",
       "      <td>7.723281</td>\n",
       "      <td>20.189044</td>\n",
       "      <td>0.121521</td>\n",
       "      <td>22.995351</td>\n",
       "      <td>0.321514</td>\n",
       "      <td>34.871620</td>\n",
       "      <td>0.217402</td>\n",
       "      <td>35.473691</td>\n",
       "    </tr>\n",
       "    <tr>\n",
       "      <th>14383</th>\n",
       "      <td>14383</td>\n",
       "      <td>906961557887836162</td>\n",
       "      <td>0</td>\n",
       "      <td>2017-09-10 19:24:20</td>\n",
       "      <td>906961557887836162</td>\n",
       "      <td>S Dixie Hwy by Manatee Bay Marina. Wind knocking boats free of some moorings. https://t.co/m1rFyKxPqx</td>\n",
       "      <td>36771787</td>\n",
       "      <td>NaN</td>\n",
       "      <td>[[[-80.433095, 25.235637], [-80.433095, 25.235637], [-80.433095, 25.235637], [-80.433095, 25.235637]]]</td>\n",
       "      <td>-80.4331</td>\n",
       "      <td>...</td>\n",
       "      <td>0.734768</td>\n",
       "      <td>73.476819</td>\n",
       "      <td>7.722590</td>\n",
       "      <td>20.187842</td>\n",
       "      <td>0.078472</td>\n",
       "      <td>19.221822</td>\n",
       "      <td>0.248149</td>\n",
       "      <td>30.887647</td>\n",
       "      <td>0.274289</td>\n",
       "      <td>40.164130</td>\n",
       "    </tr>\n",
       "    <tr>\n",
       "      <th>15098</th>\n",
       "      <td>15098</td>\n",
       "      <td>906972395378020353</td>\n",
       "      <td>1</td>\n",
       "      <td>2017-09-10 20:07:24</td>\n",
       "      <td>906972395378020353</td>\n",
       "      <td>@DrewOnTheRadio  next up Mozzarella Cheese sticks #stillhavepower #irma https://t.co/vgZCTvrOdY</td>\n",
       "      <td>288744355</td>\n",
       "      <td>NaN</td>\n",
       "      <td>[[[-82.288178, 28.328232], [-82.288178, 28.346833], [-82.269875, 28.346833], [-82.269875, 28.328232]]]</td>\n",
       "      <td>-82.2790</td>\n",
       "      <td>...</td>\n",
       "      <td>0.786000</td>\n",
       "      <td>78.600010</td>\n",
       "      <td>7.729228</td>\n",
       "      <td>20.199387</td>\n",
       "      <td>0.145134</td>\n",
       "      <td>25.065184</td>\n",
       "      <td>0.355503</td>\n",
       "      <td>36.717409</td>\n",
       "      <td>0.441406</td>\n",
       "      <td>53.943132</td>\n",
       "    </tr>\n",
       "    <tr>\n",
       "      <th>16412</th>\n",
       "      <td>16412</td>\n",
       "      <td>906991938045431809</td>\n",
       "      <td>0</td>\n",
       "      <td>2017-09-10 21:25:03</td>\n",
       "      <td>906991938045431809</td>\n",
       "      <td>Couldn t stand the heat inside the house  so I sat outside and  https://t.co/cOz9hVS4wC</td>\n",
       "      <td>33670280</td>\n",
       "      <td>[25.70555556,-80.44055556]</td>\n",
       "      <td>[[[-80.4965, 25.683801], [-80.4965, 25.728697], [-80.4299, 25.728697], [-80.4299, 25.683801]]]</td>\n",
       "      <td>-80.4406</td>\n",
       "      <td>...</td>\n",
       "      <td>0.793542</td>\n",
       "      <td>79.354171</td>\n",
       "      <td>7.729079</td>\n",
       "      <td>20.199127</td>\n",
       "      <td>0.170758</td>\n",
       "      <td>27.311314</td>\n",
       "      <td>0.418269</td>\n",
       "      <td>40.125870</td>\n",
       "      <td>0.253807</td>\n",
       "      <td>38.475397</td>\n",
       "    </tr>\n",
       "    <tr>\n",
       "      <th>18779</th>\n",
       "      <td>18779</td>\n",
       "      <td>907027303812792321</td>\n",
       "      <td>1</td>\n",
       "      <td>2017-09-10 23:45:35</td>\n",
       "      <td>907027303812792321</td>\n",
       "      <td>Amen Ra Primordial Diety #Ogdoad  High Consciousness @ Broward County, Florida https://t.co/LvTDfAFJnJ</td>\n",
       "      <td>17840705</td>\n",
       "      <td>[26.124354,-80.249503]</td>\n",
       "      <td>[[[-80.330201, 26.088262], [-80.330201, 26.160753], [-80.196833, 26.160753], [-80.196833, 26.088262]]]</td>\n",
       "      <td>-80.2495</td>\n",
       "      <td>...</td>\n",
       "      <td>0.624662</td>\n",
       "      <td>62.466184</td>\n",
       "      <td>7.720907</td>\n",
       "      <td>20.184915</td>\n",
       "      <td>0.081574</td>\n",
       "      <td>19.493786</td>\n",
       "      <td>0.257961</td>\n",
       "      <td>31.420442</td>\n",
       "      <td>0.203992</td>\n",
       "      <td>34.368075</td>\n",
       "    </tr>\n",
       "  </tbody>\n",
       "</table>\n",
       "<p>11 rows × 31 columns</p>\n",
       "</div>"
      ],
      "text/plain": [
       "       index            tweet_id  irma_rel           timestamp  \\\n",
       "133      133  906670141836025857         1 2017-09-10 00:06:21   \n",
       "5518    5518  906769881785401344         0 2017-09-10 06:42:41   \n",
       "8247    8247  906874320080838656         0 2017-09-10 13:37:41   \n",
       "8256    8256  906874548401741824         1 2017-09-10 13:38:35   \n",
       "8812    8812  906882630246912005         1 2017-09-10 14:10:42   \n",
       "9349    9349  906892510118793217         1 2017-09-10 14:49:58   \n",
       "13235  13235  906945083005718533         1 2017-09-10 18:18:52   \n",
       "14383  14383  906961557887836162         0 2017-09-10 19:24:20   \n",
       "15098  15098  906972395378020353         1 2017-09-10 20:07:24   \n",
       "16412  16412  906991938045431809         0 2017-09-10 21:25:03   \n",
       "18779  18779  907027303812792321         1 2017-09-10 23:45:35   \n",
       "\n",
       "                 tweet_id  \\\n",
       "133    906670141836025857   \n",
       "5518   906769881785401344   \n",
       "8247   906874320080838656   \n",
       "8256   906874548401741824   \n",
       "8812   906882630246912005   \n",
       "9349   906892510118793217   \n",
       "13235  906945083005718533   \n",
       "14383  906961557887836162   \n",
       "15098  906972395378020353   \n",
       "16412  906991938045431809   \n",
       "18779  907027303812792321   \n",
       "\n",
       "                                                                                                                          tweet_text  \\\n",
       "133                                                                                            These tornado warnings have me like     \n",
       "5518                                                    This will literally always be my favorite video ever https://t.co/v2xpiwQPiT   \n",
       "8247   Never thought I d say this, but turns out this isn t the time for @johnlegend Changing my shirt now.  https://t.co/T91uCxg16z   \n",
       "8256          The Waffle House Index is limited menu for the duration and they ll close at 2 PM today until  https://t.co/gH1uzjbkBY   \n",
       "8812                                                     IF I DONT HAVE POWER FOR THE PACKER GAME SO HELP ME https://t.co/XkYpvC4CY2   \n",
       "9349         Last nights #hurricane dinner. Great memories with cinbark41 on this trip tp #pasorobles. Nice  https://t.co/Yb5PHfUMFg   \n",
       "13235                                          The beautiful Brickell Avenue literally looking like a river: https://t.co/d0iktpqQYU   \n",
       "14383                          S Dixie Hwy by Manatee Bay Marina. Wind knocking boats free of some moorings. https://t.co/m1rFyKxPqx   \n",
       "15098                                @DrewOnTheRadio  next up Mozzarella Cheese sticks #stillhavepower #irma https://t.co/vgZCTvrOdY   \n",
       "16412                                        Couldn t stand the heat inside the house  so I sat outside and  https://t.co/cOz9hVS4wC   \n",
       "18779                         Amen Ra Primordial Diety #Ogdoad  High Consciousness @ Broward County, Florida https://t.co/LvTDfAFJnJ   \n",
       "\n",
       "         user_id                tweet_coords  \\\n",
       "133    338030439                         NaN   \n",
       "5518   772791458                         NaN   \n",
       "8247   606573953                         NaN   \n",
       "8256    32508352      [30.374088,-84.292935]   \n",
       "8812    44637536                         NaN   \n",
       "9349    29485348          [26.6318,-81.8571]   \n",
       "13235   53461892                         NaN   \n",
       "14383   36771787                         NaN   \n",
       "15098  288744355                         NaN   \n",
       "16412   33670280  [25.70555556,-80.44055556]   \n",
       "18779   17840705      [26.124354,-80.249503]   \n",
       "\n",
       "                                                                                            tweet_coords_list  \\\n",
       "133    [[[-80.352067, 25.923399], [-80.352067, 25.957164], [-80.293194, 25.957164], [-80.293194, 25.923399]]]   \n",
       "5518     [[[-80.456153, 25.624969], [-80.456153, 25.641133], [-80.41449, 25.641133], [-80.41449, 25.624969]]]   \n",
       "8247   [[[-82.728681, 27.808138], [-82.728681, 27.826339], [-82.708134, 27.826339], [-82.708134, 27.808138]]]   \n",
       "8256       [[[-84.386548, 30.365093], [-84.386548, 30.587338], [-84.1458, 30.587338], [-84.1458, 30.365093]]]   \n",
       "8812   [[[-80.256457, 26.896996], [-80.256457, 26.957201], [-80.172692, 26.957201], [-80.172692, 26.896996]]]   \n",
       "9349   [[[-81.895498, 26.564625], [-81.895498, 26.679673], [-81.750855, 26.679673], [-81.750855, 26.564625]]]   \n",
       "13235  [[[-82.410125, 27.965019], [-82.410125, 28.031093], [-82.326519, 28.031093], [-82.326519, 27.965019]]]   \n",
       "14383  [[[-80.433095, 25.235637], [-80.433095, 25.235637], [-80.433095, 25.235637], [-80.433095, 25.235637]]]   \n",
       "15098  [[[-82.288178, 28.328232], [-82.288178, 28.346833], [-82.269875, 28.346833], [-82.269875, 28.328232]]]   \n",
       "16412          [[[-80.4965, 25.683801], [-80.4965, 25.728697], [-80.4299, 25.728697], [-80.4299, 25.683801]]]   \n",
       "18779  [[[-80.330201, 26.088262], [-80.330201, 26.160753], [-80.196833, 26.160753], [-80.196833, 26.088262]]]   \n",
       "\n",
       "       tweet_long  ...  d-sw-cstvs MM-d-sw-cstvs   o-sw-dp MM-o-sw-dp  \\\n",
       "133      -80.3226  ...    0.556098     55.609846  7.720579  20.184346   \n",
       "5518     -80.4353  ...    0.653290     65.328989  7.720055  20.183434   \n",
       "8247     -82.7184  ...    0.721526     72.152643  7.728704  20.198476   \n",
       "8256     -84.2929  ...    0.719880     71.987965  7.721850  20.186556   \n",
       "8812     -80.2146  ...    0.702064     70.206439  7.729650  20.200121   \n",
       "9349     -81.8571  ...    0.771635     77.163537  7.722311  20.187358   \n",
       "13235    -82.3683  ...    0.753639     75.363909  7.723281  20.189044   \n",
       "14383    -80.4331  ...    0.734768     73.476819  7.722590  20.187842   \n",
       "15098    -82.2790  ...    0.786000     78.600010  7.729228  20.199387   \n",
       "16412    -80.4406  ...    0.793542     79.354171  7.729079  20.199127   \n",
       "18779    -80.2495  ...    0.624662     62.466184  7.720907  20.184915   \n",
       "\n",
       "       o-sw-mcs  MM-o-sw-mcs  o-sw-scssc  MM-o-sw-scssc  o-sw-cstvs  \\\n",
       "133    0.145674    25.112554    0.252315      31.113840    0.221984   \n",
       "5518   0.152616    25.721026    0.341259      35.943869    0.247568   \n",
       "8247   0.131311    23.853559    0.347417      36.278282    0.224085   \n",
       "8256   0.115649    22.480625    0.346946      36.252703    0.199966   \n",
       "8812   0.135666    24.235241    0.303357      33.885663    0.260159   \n",
       "9349   0.072574    18.704870    0.240702      30.483203    0.176408   \n",
       "13235  0.121521    22.995351    0.321514      34.871620    0.217402   \n",
       "14383  0.078472    19.221822    0.248149      30.887647    0.274289   \n",
       "15098  0.145134    25.065184    0.355503      36.717409    0.441406   \n",
       "16412  0.170758    27.311314    0.418269      40.125870    0.253807   \n",
       "18779  0.081574    19.493786    0.257961      31.420442    0.203992   \n",
       "\n",
       "       MM-o-sw-cstvs  \n",
       "133        35.851496  \n",
       "5518       37.960952  \n",
       "8247       36.024717  \n",
       "8256       34.036083  \n",
       "8812       38.999126  \n",
       "9349       32.093698  \n",
       "13235      35.473691  \n",
       "14383      40.164130  \n",
       "15098      53.943132  \n",
       "16412      38.475397  \n",
       "18779      34.368075  \n",
       "\n",
       "[11 rows x 31 columns]"
      ]
     },
     "execution_count": 48,
     "metadata": {},
     "output_type": "execute_result"
    }
   ],
   "source": [
    "tweet_encoded[(tweet_encoded['o-sw-dp']>7.72) & (tweet_encoded['o-sw-dp']<7.73)]"
   ]
  },
  {
   "cell_type": "code",
   "execution_count": null,
   "metadata": {},
   "outputs": [],
   "source": [
    "# tweet_encoded[['tweet_id','timestamp','irma_rel','tweet','sw_dp','MM_sw_dp']].to_csv(r'./190930_wordScores.csv')"
   ]
  },
  {
   "cell_type": "code",
   "execution_count": null,
   "metadata": {},
   "outputs": [],
   "source": [
    "print(tweet_encoded['MM-o-sw-dp'].mean())\n",
    "print(tweet_encoded['MM-o-sw-dp'].median())\n",
    "print(tweet_encoded['MM-o-sw-dp'].std())"
   ]
  },
  {
   "cell_type": "code",
   "execution_count": null,
   "metadata": {},
   "outputs": [],
   "source": [
    "#pickle.dump(tweet_encoded,open('20200204_DataForPaper.pkl','wb'))"
   ]
  },
  {
   "cell_type": "code",
   "execution_count": null,
   "metadata": {},
   "outputs": [],
   "source": [
    "#tweet_encoded = pickle.load(open('20200204_DataForPaper.pkl','rb'))"
   ]
  },
  {
   "cell_type": "markdown",
   "metadata": {},
   "source": [
    "Graphs for Paper"
   ]
  },
  {
   "cell_type": "code",
   "execution_count": 50,
   "metadata": {},
   "outputs": [],
   "source": [
    "import seaborn as sns"
   ]
  },
  {
   "cell_type": "code",
   "execution_count": 51,
   "metadata": {},
   "outputs": [
    {
     "data": {
      "image/png": "[encoded data removed]",
      "text/plain": [
       "<Figure size 1000x100 with 1 Axes>"
      ]
     },
     "metadata": {},
     "output_type": "display_data"
    }
   ],
   "source": [
    "current_palette = sns.color_palette('colorblind')\n",
    "sns.palplot(current_palette)"
   ]
  },
  {
   "cell_type": "code",
   "execution_count": 52,
   "metadata": {},
   "outputs": [],
   "source": [
    "plt.rc('text', usetex=True)\n",
    "plt.rc('font', family='serif')\n",
    "plt.rcParams.update({'font.size': 22})"
   ]
  },
  {
   "cell_type": "code",
   "execution_count": 53,
   "metadata": {},
   "outputs": [
    {
     "name": "stdout",
     "output_type": "stream",
     "text": [
      "0.88\n",
      "0.722\n",
      "0.826\n",
      "0.789\n"
     ]
    }
   ],
   "source": [
    "for i in ['dp','mcs','scssc','cstvs']:\n",
    "    print(round(roc_auc_score(tweet_encoded['irma_rel'],tweet_encoded[f'MM-o-sw-{i}']),3))"
   ]
  },
  {
   "cell_type": "code",
   "execution_count": 54,
   "metadata": {},
   "outputs": [
    {
     "data": {
      "image/png": "[encoded data removed]",
      "text/plain": [
       "<Figure size 1200x1200 with 1 Axes>"
      ]
     },
     "metadata": {},
     "output_type": "display_data"
    }
   ],
   "source": [
    "sns.set_palette('colorblind')\n",
    "fig_roc_s = plt.figure(figsize=(12, 12), dpi=100, facecolor='w')\n",
    "plt.xlabel(\"False Positive Rate\")\n",
    "plt.ylabel(\"True Positive Rate\")\n",
    "# color_list = {'dp':\"#2364AA\",'mcs':\"#3DA5D9\",'scssc':\"#73BFB8\",'cstvs':\"#FEC601\",'mid':\"#EA7317\"}\n",
    "line_list = {'d':\":\",'o':\":\"}\n",
    "marker_list = {'dp':'o','mcs':'^','scssc':'s','cstvs':'P'}\n",
    "\n",
    "for i in ['dp','mcs','scssc','cstvs']:\n",
    "#     for j in ['d','o']:\n",
    "    for j in ['o']:\n",
    "        \n",
    "        fpr, tpr, thresholds = roc_curve(tweet_encoded['irma_rel'],tweet_encoded[f'MM-{j}-sw-{i}'])\n",
    "        auroc_score = round(roc_auc_score(tweet_encoded['irma_rel'],tweet_encoded[f'MM-o-sw-{i}']),4)\n",
    "        label_text = f\"{i.upper()}, AU-ROC = {auroc_score}\"\n",
    "#         label_text = i.upper()+\"(\"+j.upper()+\")\"\n",
    "#         plt.plot(fpr,tpr,label=label_text,linestyle=line_list.get(j),color=color_list.get(i))\n",
    "        plt.plot(fpr,tpr,label=label_text,linestyle=\":\",marker=marker_list.get(i),markevery=200)\n",
    "# plt.plot([0,1],[0,1],linestyle=\"-.\",label=\".5 Threshold\",color=color_list.get('mid'))\n",
    "\n",
    "# plt.title(\"AU-ROC of Scalar Formulas\")\n",
    "plt.legend(loc=\"lower right\")\n",
    "plt.show()\n",
    "#fig_roc_s.savefig('./figures/text_auroc_paper.eps',format='eps',bbox_inches='tight')"
   ]
  },
  {
   "cell_type": "code",
   "execution_count": 55,
   "metadata": {},
   "outputs": [],
   "source": [
    "tweet_times = tweet_encoded.set_index('timestamp')"
   ]
  },
  {
   "cell_type": "code",
   "execution_count": 56,
   "metadata": {},
   "outputs": [],
   "source": [
    "tweet_times['oSWDPStd'] = (tweet_times['o-sw-dp'] - tweet_times['o-sw-dp'].mean())/tweet_times['o-sw-dp'].std()"
   ]
  },
  {
   "cell_type": "code",
   "execution_count": 57,
   "metadata": {},
   "outputs": [],
   "source": [
    "tweet_times['oSWDPStdMM'] = ((tweet_times['oSWDPStd'] - tweet_times['oSWDPStd'].min())* 100) / (tweet_times['oSWDPStd'].max() - tweet_times['oSWDPStd'].min())"
   ]
  },
  {
   "cell_type": "code",
   "execution_count": 58,
   "metadata": {},
   "outputs": [],
   "source": [
    "tweet_times['MMoDPNormStd']  = (tweet_times['MM-o-sw-dp'] - tweet_times['MM-o-sw-dp'].mean())/tweet_times['MM-o-sw-dp'].std()"
   ]
  },
  {
   "cell_type": "code",
   "execution_count": 59,
   "metadata": {},
   "outputs": [
    {
     "data": {
      "text/html": [
       "<div>\n",
       "<style scoped>\n",
       "    .dataframe tbody tr th:only-of-type {\n",
       "        vertical-align: middle;\n",
       "    }\n",
       "\n",
       "    .dataframe tbody tr th {\n",
       "        vertical-align: top;\n",
       "    }\n",
       "\n",
       "    .dataframe thead th {\n",
       "        text-align: right;\n",
       "    }\n",
       "</style>\n",
       "<table border=\"1\" class=\"dataframe\">\n",
       "  <thead>\n",
       "    <tr style=\"text-align: right;\">\n",
       "      <th></th>\n",
       "      <th>oSWDPStd</th>\n",
       "      <th>oSWDPStdMM</th>\n",
       "      <th>MMoDPNormStd</th>\n",
       "      <th>MM-o-sw-dp</th>\n",
       "    </tr>\n",
       "    <tr>\n",
       "      <th>timestamp</th>\n",
       "      <th></th>\n",
       "      <th></th>\n",
       "      <th></th>\n",
       "      <th></th>\n",
       "    </tr>\n",
       "  </thead>\n",
       "  <tbody>\n",
       "    <tr>\n",
       "      <th>2017-09-10 00:00:01</th>\n",
       "      <td>0.956506</td>\n",
       "      <td>36.879810</td>\n",
       "      <td>0.956506</td>\n",
       "      <td>36.879810</td>\n",
       "    </tr>\n",
       "    <tr>\n",
       "      <th>2017-09-10 00:00:03</th>\n",
       "      <td>0.325868</td>\n",
       "      <td>28.448821</td>\n",
       "      <td>0.325868</td>\n",
       "      <td>28.448821</td>\n",
       "    </tr>\n",
       "    <tr>\n",
       "      <th>2017-09-10 00:00:03</th>\n",
       "      <td>-0.257709</td>\n",
       "      <td>20.646989</td>\n",
       "      <td>-0.257709</td>\n",
       "      <td>20.646989</td>\n",
       "    </tr>\n",
       "    <tr>\n",
       "      <th>2017-09-10 00:00:06</th>\n",
       "      <td>-0.043809</td>\n",
       "      <td>23.506609</td>\n",
       "      <td>-0.043809</td>\n",
       "      <td>23.506609</td>\n",
       "    </tr>\n",
       "    <tr>\n",
       "      <th>2017-09-10 00:00:08</th>\n",
       "      <td>-1.042159</td>\n",
       "      <td>10.159677</td>\n",
       "      <td>-1.042159</td>\n",
       "      <td>10.159677</td>\n",
       "    </tr>\n",
       "  </tbody>\n",
       "</table>\n",
       "</div>"
      ],
      "text/plain": [
       "                     oSWDPStd  oSWDPStdMM  MMoDPNormStd  MM-o-sw-dp\n",
       "timestamp                                                          \n",
       "2017-09-10 00:00:01  0.956506   36.879810      0.956506   36.879810\n",
       "2017-09-10 00:00:03  0.325868   28.448821      0.325868   28.448821\n",
       "2017-09-10 00:00:03 -0.257709   20.646989     -0.257709   20.646989\n",
       "2017-09-10 00:00:06 -0.043809   23.506609     -0.043809   23.506609\n",
       "2017-09-10 00:00:08 -1.042159   10.159677     -1.042159   10.159677"
      ]
     },
     "execution_count": 59,
     "metadata": {},
     "output_type": "execute_result"
    }
   ],
   "source": [
    "tweet_times[['oSWDPStd','oSWDPStdMM','MMoDPNormStd','MM-o-sw-dp']].head()"
   ]
  },
  {
   "cell_type": "code",
   "execution_count": null,
   "metadata": {},
   "outputs": [],
   "source": [
    "tweet_times.groupby(tweet_times.index.hour).count()['tweet_id']"
   ]
  },
  {
   "cell_type": "code",
   "execution_count": 60,
   "metadata": {},
   "outputs": [
    {
     "data": {
      "text/plain": [
       "0.9999999999999966"
      ]
     },
     "execution_count": 60,
     "metadata": {},
     "output_type": "execute_result"
    }
   ],
   "source": [
    "tweet_times['oSWDPStd'].std()"
   ]
  },
  {
   "cell_type": "code",
   "execution_count": 61,
   "metadata": {
    "scrolled": false
   },
   "outputs": [
    {
     "data": {
      "image/png": "[encoded data removed]",
      "text/plain": [
       "<Figure size 1600x800 with 2 Axes>"
      ]
     },
     "metadata": {},
     "output_type": "display_data"
    }
   ],
   "source": [
    "import seaborn as sns\n",
    "fig = plt.figure(figsize=(16,8))\n",
    "\n",
    "ax1 = fig.add_subplot()\n",
    "\n",
    "\n",
    "# sns.stripplot(x=tweet_times.index.hour,y=tweet_times['MMoDPNormStd'],jitter=.35,palette='viridis',alpha=.5)\n",
    "sns.boxplot(x=tweet_times.index.hour,y=tweet_times['oSWDPStdMM'],color='lightblue')\n",
    "\n",
    "ax1.set_xlabel('Hour of day in GMT')\n",
    "ax1.set_ylabel('MinMax Score of Tweets')\n",
    "ax1.set_title('Distribution of Tweet Score by Hour')\n",
    "ax2 = ax1.twinx()\n",
    "ax2.plot(tweet_times.groupby(tweet_times.index.hour).count()['tweet_id'],label='Tweet Count')\n",
    "ax2.set_ylabel('Count of Tweets per Hour')\n",
    "ax2.axvline(x=13,label='Landfall Time',linestyle=':',color='black')\n",
    "ax2.grid(visible = False)\n",
    "ax2.legend()\n",
    "plt.show()\n",
    "#fig.savefig(f'./figures/boxplot.pdf',bbox_inches='tight')"
   ]
  },
  {
   "cell_type": "code",
   "execution_count": null,
   "metadata": {},
   "outputs": [],
   "source": [
    "tweet_times.index.hour"
   ]
  },
  {
   "cell_type": "markdown",
   "metadata": {},
   "source": [
    "## Optimized Loops"
   ]
  },
  {
   "cell_type": "code",
   "execution_count": null,
   "metadata": {},
   "outputs": [],
   "source": [
    "[10,25,50,100,125,250,500]"
   ]
  },
  {
   "cell_type": "code",
   "execution_count": null,
   "metadata": {},
   "outputs": [],
   "source": [
    "# tweet_text = tweet_full_en.loc[tweet_date:tweet_date + date_delta,\"tweet_text\"]\n",
    "# tweets_tokens = tweet_text.apply(tokens_no_stopwords)\n",
    "# coded_tweets = pd.read_csv(r'./irma_related_tweets.csv')\n",
    "# tweets_on_date = tweet_full_en.loc[tweet_date:tweet_date+date_delta]\n",
    "# tweet_encoded = pd.concat([coded_tweets.reset_index(),tweets_on_date.iloc[:-1].reset_index()],axis=1)\n",
    "# search_term = 'irma'\n",
    "# # Hidden Layer Dimensions (hld)\n",
    "# # Minimum Word Count (mwc)\n",
    "# # Word Window Size (wws)\n",
    "# # Negative Sampling (ns)\n",
    "# # Epochs (ep)\n",
    "# # Scoring formulas (sf)"
   ]
  },
  {
   "cell_type": "code",
   "execution_count": null,
   "metadata": {},
   "outputs": [],
   "source": [
    "# roc_df = pd.DataFrame()\n",
    "# for hld in range(50,501,50):\n",
    "#     for mwc in range(10):\n",
    "#         for wws in range(1,11):\n",
    "#             for ns in range(10):\n",
    "#                 for ep in [10,25,50,100,125,250,500]:\n",
    "#                     vector_model = Word2Vec(tweets_tokens, seed=1, sg=1, workers=1,\n",
    "#                                             size = hld,\n",
    "#                                             min_count = mwc,\n",
    "#                                             window = wws,\n",
    "#                                             negative = ns)\n",
    "#                     vector_model.train(tweets_tokens,\n",
    "#                                        total_examples = len(tweet_text),\n",
    "#                                        epochs=ep)\n",
    "#                     for sf in ['dp','mcs','scssc','cstvs']:\n",
    "# #                         score tweets\n",
    "#                         tweet_encoded['score'] = tweet_encoded.tweet_text.apply(scalarFunctions,args=(vector_model,sf))\n",
    "# #                         convert to min-max\n",
    "#                         tweet_scores = tweet_encoded['score']\n",
    "#                         tweet_encoded['mm'] = ((tweet_scores - tweet_scores.min())* 100) / (tweet_scores.max() - tweet_scores.min())\n",
    "# #                         get AU-ROC\n",
    "#                         roc_row_score = roc_auc_score(tweet_encoded['irma_rel'],tweet_encoded['mm'])\n",
    "# #                         add to DataFrame\n",
    "#                         roc_row = pd.DataFrame([roc_row_score,hld,mwc,wwc,ns,ep,sf]).T\n",
    "#                         roc_df = roc_df.append(roc_row, ignore_index=True)\n",
    "# #                         roc_df = pd.concat([roc_df,roc_row.T],axis=0)\n",
    "#                         roc_row"
   ]
  },
  {
   "cell_type": "code",
   "execution_count": null,
   "metadata": {},
   "outputs": [],
   "source": [
    "# roc_df.to_csv('./optimal.csv')"
   ]
  },
  {
   "cell_type": "code",
   "execution_count": null,
   "metadata": {},
   "outputs": [],
   "source": [
    "# roc_df.rename(columns={0:'AUROC',1:'HLD',2:'MWC',3:'WWS',4:'NS',5:'EP',6:'SF'}).sort_values('AUROC',ascending=False)"
   ]
  },
  {
   "cell_type": "code",
   "execution_count": null,
   "metadata": {},
   "outputs": [],
   "source": [
    "# roc_df.loc[14032]"
   ]
  },
  {
   "cell_type": "code",
   "execution_count": null,
   "metadata": {},
   "outputs": [],
   "source": [
    "tweet_encoded.columns"
   ]
  },
  {
   "cell_type": "code",
   "execution_count": null,
   "metadata": {},
   "outputs": [],
   "source": [
    "for i in ['dp','mcs','scssc','cstvs']:\n",
    "    print(round(roc_auc_score(tweet_encoded['irma_rel'],tweet_encoded[f'MM-o-sw-{i}']),4))"
   ]
  },
  {
   "cell_type": "markdown",
   "metadata": {},
   "source": [
    "### Saed's tweets:"
   ]
  },
  {
   "cell_type": "code",
   "execution_count": null,
   "metadata": {},
   "outputs": [],
   "source": [
    "# s_tweets = pd.read_csv(r'./irma_3days_tweets.csv')"
   ]
  },
  {
   "cell_type": "code",
   "execution_count": null,
   "metadata": {},
   "outputs": [],
   "source": [
    "# s_tweets.head(5)"
   ]
  },
  {
   "cell_type": "code",
   "execution_count": null,
   "metadata": {},
   "outputs": [],
   "source": [
    "# s_tweets_tokens = s_tweets['text'].apply(tokens_no_stopwords)\n",
    "# s_tweets_v_model = Word2Vec(s_tweets_tokens,\n",
    "#                            min_count=MWC,\n",
    "#                            window = WWS,\n",
    "#                            workers=1,\n",
    "#                            size=HD,\n",
    "#                            seed=1,\n",
    "#                            sg=1,\n",
    "#                            negative = NS)\n",
    "# s_tweets_v_model.train(s_tweets_tokens, total_examples = len(s_tweets['text']), epochs=EP)"
   ]
  },
  {
   "cell_type": "code",
   "execution_count": null,
   "metadata": {},
   "outputs": [],
   "source": [
    "# s_tweets['dp_score'] = s_tweets['text'].apply(scalarFunctions,args=(opt_vector_model,'dp'))\n",
    "# s_tweets_scores = s_tweets['dp_score']\n",
    "# s_tweets['mm_dp_score'] = ((s_tweets_scores - s_tweets_scores.min())* 100) / (s_tweets_scores.max() - s_tweets_scores.min())"
   ]
  },
  {
   "cell_type": "code",
   "execution_count": null,
   "metadata": {},
   "outputs": [],
   "source": [
    "# s_tweets.to_csv(r'./irma_3days_tweets_scored.csv')"
   ]
  },
  {
   "cell_type": "code",
   "execution_count": null,
   "metadata": {},
   "outputs": [],
   "source": [
    "# s_tweets.sort_values('mm_dp_score',ascending=False)"
   ]
  },
  {
   "cell_type": "markdown",
   "metadata": {},
   "source": [
    "### Related Words by 1 Hour Increments"
   ]
  },
  {
   "cell_type": "code",
   "execution_count": null,
   "metadata": {},
   "outputs": [],
   "source": [
    "related_words = pd.DataFrame()\n",
    "tweet_date = pd.to_datetime(\"2017-09-10 00:00:00\")\n",
    "date_delta = pd.Timedelta(\"1HR\")\n",
    "end_date = pd.to_datetime(\"2017-09-11 00:00:00\")\n",
    "top_num_words = 20\n",
    "search_term = 'irma'"
   ]
  },
  {
   "cell_type": "code",
   "execution_count": null,
   "metadata": {},
   "outputs": [],
   "source": [
    "for tweet_day in pd.date_range(start = tweet_date, end = end_date, freq = date_delta):\n",
    "    tweet_text = tweet_full_en.loc[tweet_day:tweet_day + date_delta,\"tweet_text\"]\n",
    "    tweets_tokens = tweet_text.apply(tokens_no_stopwords)\n",
    "    opt_vector_model_1hr = Word2Vec(tweets_tokens, min_count=MWC, window=WWS, workers=1, size=HD, seed=1, sg=1, negative=NS)\n",
    "    opt_vector_model_1hr.train(tweets_tokens, total_examples=len(tweet_text), epochs=EP)\n",
    "    opt_word_matrix_1hr = opt_vector_model_1hr.wv[opt_vector_model_1hr.wv.vocab]\n",
    "    terms_from_range = pd.DataFrame.from_records(opt_vector_model_1hr.wv.most_similar(search_term,topn=top_num_words),columns=[tweet_day,\"Cos_Sim\"])\n",
    "    related_words = pd.concat([related_words,terms_from_range],axis=1)"
   ]
  },
  {
   "cell_type": "code",
   "execution_count": null,
   "metadata": {},
   "outputs": [],
   "source": [
    "# related_words.iloc[:,0::2].to_csv(r'./190928_words.csv')"
   ]
  },
  {
   "cell_type": "code",
   "execution_count": null,
   "metadata": {},
   "outputs": [],
   "source": [
    "# related_words.to_csv('./top_words_no_scores.csv')"
   ]
  },
  {
   "cell_type": "markdown",
   "metadata": {},
   "source": [
    "### Network Graphs"
   ]
  },
  {
   "cell_type": "code",
   "execution_count": null,
   "metadata": {},
   "outputs": [],
   "source": [
    "from sklearn.feature_extraction.text import CountVectorizer, TfidfVectorizer"
   ]
  },
  {
   "cell_type": "code",
   "execution_count": null,
   "metadata": {},
   "outputs": [],
   "source": [
    "# t_vect = TfidfVectorizer(\n",
    "#     tokenizer=lambda x: x,\n",
    "#     preprocessor=lambda x: x)"
   ]
  },
  {
   "cell_type": "code",
   "execution_count": null,
   "metadata": {},
   "outputs": [],
   "source": [
    "# t_vect_vectors = t_vect.fit_transform(tweets_tokens)"
   ]
  },
  {
   "cell_type": "code",
   "execution_count": null,
   "metadata": {},
   "outputs": [],
   "source": [
    "# pd.DataFrame(t_vect.idf_, index=t_vect.get_feature_names(),columns=[\"idf_weights\"])"
   ]
  },
  {
   "cell_type": "code",
   "execution_count": null,
   "metadata": {},
   "outputs": [],
   "source": [
    "# token_counts = tweets_tokens.apply(pd.Series).stack().value_counts()"
   ]
  },
  {
   "cell_type": "code",
   "execution_count": null,
   "metadata": {},
   "outputs": [],
   "source": [
    "# len(t_vect.vocabulary_) == len(token_counts)"
   ]
  },
  {
   "cell_type": "code",
   "execution_count": null,
   "metadata": {},
   "outputs": [],
   "source": [
    "# len(t_vect.idf_)"
   ]
  },
  {
   "cell_type": "code",
   "execution_count": null,
   "metadata": {},
   "outputs": [],
   "source": [
    "# t_vect.idf_"
   ]
  },
  {
   "cell_type": "code",
   "execution_count": null,
   "metadata": {},
   "outputs": [],
   "source": [
    "# len(t_vect.get_feature_names())"
   ]
  },
  {
   "cell_type": "code",
   "execution_count": null,
   "metadata": {},
   "outputs": [],
   "source": [
    "# pd.DataFrame(t_vect_vectors.todense(),columns=t_vect.vocabulary_)"
   ]
  },
  {
   "cell_type": "code",
   "execution_count": null,
   "metadata": {
    "scrolled": true
   },
   "outputs": [],
   "source": [
    "# t_vect.get_feature_names()"
   ]
  },
  {
   "cell_type": "code",
   "execution_count": null,
   "metadata": {},
   "outputs": [],
   "source": [
    "# t_vect.vocabulary_.get('zure')"
   ]
  },
  {
   "cell_type": "code",
   "execution_count": null,
   "metadata": {},
   "outputs": [],
   "source": [
    "# cos(pi/4)"
   ]
  },
  {
   "cell_type": "code",
   "execution_count": null,
   "metadata": {},
   "outputs": [],
   "source": [
    "# from itertools import combinations\n",
    "# word_pairs = list(combinations(list(vector_model.wv.vocab.keys()),2))\n",
    "# tweet_graph = nx.Graph()\n",
    "# for word_count in token_counts.iteritems():\n",
    "#     tweet_graph.add_node(word_count[0],count=word_count[1])\n",
    "# for pair in word_pairs:\n",
    "#     edge_weight = vector_model.wv.similarity(pair[0],pair[1])\n",
    "#     if edge_weight > .80:\n",
    "#         tweet_graph.add_edge(pair[0],pair[1],weight=edge_weight)\n",
    "# nx.write_gexf(tweet_graph,path=r'./tweet_graph.gexf')"
   ]
  },
  {
   "cell_type": "code",
   "execution_count": null,
   "metadata": {},
   "outputs": [],
   "source": [
    "# from itertools import combinations\n",
    "# word_pairs = list(combinations(list(opt_vector_model.wv.vocab.keys()),2))\n",
    "# tweet_graph = nx.Graph()\n",
    "# for word_count in range(len(t_vect.idf_)):\n",
    "#     tweet_graph.add_node(t_vect.get_feature_names()[word_count],tfidf=t_vect.idf_[word_count])\n",
    "# for pair in word_pairs:\n",
    "#     edge_weight = opt_vector_model.wv.similarity(pair[0],pair[1])\n",
    "#     if edge_weight > cos(pi/4):\n",
    "#         tweet_graph.add_edge(pair[0],pair[1],weight=edge_weight)\n",
    "# nx.write_gexf(tweet_graph,path=r'./tweet_graph_idf_cos.gexf')"
   ]
  },
  {
   "cell_type": "code",
   "execution_count": null,
   "metadata": {
    "slideshow": {
     "slide_type": "-"
    }
   },
   "outputs": [],
   "source": [
    "# num_words = 10\n",
    "# tweet_graph = nx.Graph()\n",
    "# # for word_count in token_counts.iteritems():\n",
    "# # for word_count in t_vect.vocabulary_.items():\n",
    "# #     tweet_graph.add_node(word_count[0],count=word_count[1])\n",
    "# for word_count in range(len(t_vect.idf_)):\n",
    "# #     tweet_graph.add_node(word_count[0],tfidf=word_count[1])\n",
    "#     tweet_graph.add_node(t_vect.get_feature_names()[word_count],tfidf=t_vect.idf_[word_count])\n",
    "# for word in list(opt_vector_model.wv.vocab.keys()):\n",
    "#     word_scores = opt_vector_model.wv.most_similar(word, topn=num_words)\n",
    "#     for i in range(num_words):\n",
    "#         tweet_graph.add_edge(word,word_scores[i][0],weight=word_scores[i][1])\n",
    "# nx.write_gexf(tweet_graph,path=f'./tweet_graph_{num_words}_tfidf.gexf')"
   ]
  },
  {
   "cell_type": "code",
   "execution_count": null,
   "metadata": {},
   "outputs": [],
   "source": [
    "for i in range(1,11):\n",
    "#     create strings for column heads\n",
    "    sw = f'score_window_{i}'\n",
    "    mmsw = f'MM_{sw}'\n",
    "    \n",
    "#     Scoring tweets in this column:\n",
    "    tweet_encoded[sw] = tweet_encoded.tweet_text.apply(scalarFunctions,args=(vectors_series.iloc[i],'scssc'))\n",
    "                                                       \n",
    "#     column of scores for this iteration\n",
    "    tweet_scores = tweet_encoded[sw]\n",
    "\n",
    "#     calculating Min Max Scaling for this column \n",
    "    tweet_encoded[mmsw] = ((tweet_scores - tweet_scores.min())* 100) / (tweet_scores.max() - tweet_scores.min())"
   ]
  },
  {
   "cell_type": "code",
   "execution_count": null,
   "metadata": {},
   "outputs": [],
   "source": [
    "for i in range(1,11):\n",
    "    print(round(roc_auc_score(tweet_encoded['irma_rel'],tweet_encoded[f'MM_score_window_{i}']),3))"
   ]
  },
  {
   "cell_type": "code",
   "execution_count": null,
   "metadata": {},
   "outputs": [],
   "source": [
    "coded_tweets = pd.read_csv(r'./irma_related_tweets.csv')\n",
    "\n",
    "tweets_on_date = tweet_full_en.loc[tweet_date:tweet_date+date_delta]\n",
    "\n",
    "tweet_encoded = pd.concat([coded_tweets.reset_index(),tweets_on_date.iloc[:-1].reset_index()],axis=1)"
   ]
  },
  {
   "cell_type": "code",
   "execution_count": null,
   "metadata": {},
   "outputs": [],
   "source": [
    "for i in range(1,11):\n",
    "#     create strings for column heads\n",
    "    sw = f'score_window_{i}'\n",
    "    mmsw = f'MM_{sw}'\n",
    "    \n",
    "#     Scoring tweets in this column:\n",
    "    tweet_encoded[sw] = tweet_encoded.tweet_text.apply(ScoreTweetFromVectors,args=(vectors_series.iloc[i],))\n",
    "                                                       \n",
    "#     column of scores for this iteration\n",
    "    tweet_scores = tweet_encoded[sw]\n",
    "\n",
    "#     calculating Min Max Scaling for this column \n",
    "    tweet_encoded[mmsw] = ((tweet_scores - tweet_scores.min())* 100) / (tweet_scores.max() - tweet_scores.min())"
   ]
  },
  {
   "cell_type": "code",
   "execution_count": null,
   "metadata": {
    "scrolled": false
   },
   "outputs": [],
   "source": [
    "fig_hld_1 = plt.figure(figsize=(16,8),facecolor='w')\n",
    "\n",
    "for j in range(1,11):\n",
    "    window_label = f\"{comparison_type}: {25*j + 25}\"\n",
    "    plt.plot(range(101),[len(tweet_encoded[tweet_encoded[f'MM_score_window_{j}'] > i])/len(tweet_encoded) for i in range(101)],label=window_label)\n",
    "plt.xlabel(\"Min-Max Scaled Tweet Score Threshold\")\n",
    "plt.ylabel(\"Percent of Tweets at or Above Threshold\")\n",
    "plt.title(f\"Percent of Tweets at or Above Threshold by Word2Vec {comparison_type} ({func_type})\")\n",
    "plt.legend();\n",
    "\n",
    "# fig_hld_1.savefig(f'./figures/{comparison_short}{func_short}PercentTweetsBelow.pdf',bbox_inches='tight')"
   ]
  },
  {
   "cell_type": "markdown",
   "metadata": {},
   "source": [
    "### F1 Score Comparisons"
   ]
  },
  {
   "cell_type": "code",
   "execution_count": null,
   "metadata": {},
   "outputs": [],
   "source": [
    "tweet_encoded.columns"
   ]
  },
  {
   "cell_type": "code",
   "execution_count": null,
   "metadata": {},
   "outputs": [],
   "source": [
    "# f1_window_score_df = pd.DataFrame(np.zeros((101,11)))\n",
    "# pre_score_df = pd.DataFrame(np.zeros((101,11)))\n",
    "# rec_score_df = pd.DataFrame(np.zeros((101,11)))\n",
    "f1_window_score_df = pd.DataFrame(np.zeros((101,)))\n",
    "pre_score_df = pd.DataFrame(np.zeros((101,)))\n",
    "rec_score_df = pd.DataFrame(np.zeros((101,)))"
   ]
  },
  {
   "cell_type": "code",
   "execution_count": null,
   "metadata": {},
   "outputs": [],
   "source": [
    "# for i in range(1,11):\n",
    "#     for j in range(101):\n",
    "#         f1_window_score_df.iloc[j,i] = f1_score(tweet_encoded.irma_rel,tweet_encoded[f'MM_score_window_{i}'] > j)\n",
    "#         pre_score_df.iloc[j,i] = precision_score(tweet_encoded.irma_rel,tweet_encoded[f'MM_score_window_{i}'] > j)\n",
    "#         rec_score_df.iloc[j,i] = recall_score(tweet_encoded.irma_rel,tweet_encoded[f'MM_score_window_{i}'] > j)\n",
    "for j in range(101):\n",
    "    f1_window_score_df.iloc[j] = f1_score(tweet_encoded.irma_rel,tweet_encoded['MM-o-sw-cstvs'] > j)\n",
    "    pre_score_df.iloc[j] = precision_score(tweet_encoded.irma_rel,tweet_encoded['MM-o-sw-cstvs'] > j)\n",
    "    rec_score_df.iloc[j] = recall_score(tweet_encoded.irma_rel,tweet_encoded['MM-o-sw-cstvs'] > j)"
   ]
  },
  {
   "cell_type": "code",
   "execution_count": null,
   "metadata": {},
   "outputs": [],
   "source": [
    "f1_window_score_df.idxmax()[0]"
   ]
  },
  {
   "cell_type": "code",
   "execution_count": null,
   "metadata": {},
   "outputs": [],
   "source": [
    "print(pd.concat([f1_window_score_df.idxmax(),f1_window_score_df.max()],axis=1,names=['TweetScore','F1Score']))\n",
    "# print('Index of max F1 score:')\n",
    "# print(f1_window_score_df.idxmax())\n",
    "print('max F1 score:')\n",
    "max_idx = f1_window_score_df.idxmax()[0]\n",
    "print(f1_window_score_df.iloc[max_idx][0])\n",
    "print('Precision at max F1 score:')\n",
    "print(pre_score_df.iloc[max_idx][0])\n",
    "print('Recall at max F1 score:')\n",
    "print(rec_score_df.iloc[max_idx][0])\n"
   ]
  },
  {
   "cell_type": "code",
   "execution_count": null,
   "metadata": {},
   "outputs": [],
   "source": [
    "print(f1_window_score_df.idxmax().max())"
   ]
  },
  {
   "cell_type": "code",
   "execution_count": null,
   "metadata": {
    "scrolled": false
   },
   "outputs": [],
   "source": [
    "fig_hld_2 = plt.figure(figsize=(16,8),facecolor='w')\n",
    "# for i in range(1,11):\n",
    "#     window_label = f\"{comparison_type}: {25*i + 25}\"\n",
    "#     plt.plot(f1_window_score_df.iloc[:,i],label=window_label)\n",
    "plt.plot(f1_window_score_df,label=\"F1 Score By Threshold\")\n",
    "plt.plot(pre_score_df,label=\"Precision Score By Threshold\")\n",
    "plt.plot(rec_score_df,label=\"Recall Score By Threshold\")\n",
    "plt.xlabel(\"Min-Max Scaled Tweet Score Threshold\")\n",
    "plt.ylabel(\"Score of Tweets Above Threshold\")\n",
    "plt.axvline(f1_window_score_df.idxmax().max(),linestyle=\":\",color=\"black\",alpha=.7,label=\"F1 Score Max\")\n",
    "# plt.title(f\"F1 Score of Tweets by Word2Vec {comparison_type} ({func_type})\")\n",
    "plt.title(f\"F1 Score of Tweets by Word2Vec Dot Product Method\")\n",
    "plt.legend();\n",
    "fig_hld_2.savefig(f'./figures/DP_F1Score.pdf',bbox_inches='tight')"
   ]
  },
  {
   "cell_type": "code",
   "execution_count": null,
   "metadata": {},
   "outputs": [],
   "source": []
  },
  {
   "cell_type": "markdown",
   "metadata": {},
   "source": [
    "### Negative Sampling (window size 7, dim = 100)"
   ]
  },
  {
   "cell_type": "code",
   "execution_count": null,
   "metadata": {},
   "outputs": [],
   "source": [
    "comparison_type = \"Negative Sampling Test\"\n",
    "comparison_short = \"NS\""
   ]
  },
  {
   "cell_type": "code",
   "execution_count": null,
   "metadata": {},
   "outputs": [],
   "source": [
    "# eliminating the off-by-one error in the loop later. This will have a zero row, unfilled by vectors.\n",
    "vectors_series = pd.Series(np.zeros((11)))"
   ]
  },
  {
   "cell_type": "code",
   "execution_count": null,
   "metadata": {},
   "outputs": [],
   "source": [
    "tweet_text = tweet_full_en.loc[tweet_date:tweet_date + date_delta,\"tweet_text\"]\n",
    "tweets_tokens = tweet_text.apply(tokens_no_stopwords)\n",
    "for i in range(0,11):\n",
    "    ns_size = i\n",
    "    # ---------- Skip-Gram ----------\n",
    "    # initialize the Word2Vec vectors with window size 7, min count 1, and Skip-Gram (Negative Sampling Test)\n",
    "    vector_model = Word2Vec(tweets_tokens, min_count=1, window=7, workers=1, vector_size=100, seed=1, sg=1, negative=ns_size)\n",
    "    \n",
    "    # train the model over 10 epochs\n",
    "    vector_model.train(tweets_tokens, total_examples=len(tweet_text), epochs=10)\n",
    "    \n",
    "    # assign the vector data to its position in a series\n",
    "    vectors_series.iloc[i] = vector_model"
   ]
  },
  {
   "cell_type": "code",
   "execution_count": null,
   "metadata": {},
   "outputs": [],
   "source": [
    "coded_tweets = pd.read_csv(r'./irma_related_tweets.csv')\n",
    "\n",
    "tweets_on_date = tweet_full_en.loc[tweet_date:tweet_date+date_delta]\n",
    "\n",
    "tweet_encoded = pd.concat([coded_tweets.reset_index(),tweets_on_date.iloc[:-1].reset_index()],axis=1)"
   ]
  },
  {
   "cell_type": "code",
   "execution_count": null,
   "metadata": {},
   "outputs": [],
   "source": [
    "vectors_series"
   ]
  },
  {
   "cell_type": "code",
   "execution_count": null,
   "metadata": {},
   "outputs": [],
   "source": [
    "for i in range(0,11):\n",
    "#     create strings for column heads\n",
    "    sw = f'score_window_{i}'\n",
    "    mmsw = f'MM_{sw}'\n",
    "    \n",
    "#     Scoring tweets in this column:\n",
    "    tweet_encoded[sw] = tweet_encoded.tweet_text.apply(ScoreTweetFromVectors,args=(vectors_series.iloc[i],))\n",
    "                                                       \n",
    "#     column of scores for this iteration\n",
    "    tweet_scores = tweet_encoded[sw]\n",
    "\n",
    "#     calculating Min Max Scaling for this column \n",
    "    tweet_encoded[mmsw] = ((tweet_scores - tweet_scores.min())* 100) / (tweet_scores.max() - tweet_scores.min())"
   ]
  },
  {
   "cell_type": "code",
   "execution_count": null,
   "metadata": {},
   "outputs": [],
   "source": [
    "fig_roc_1 = plt.figure(figsize=(12,12),facecolor='w')\n",
    "for i in range(1,2):\n",
    "    fpr, tpr, thresholds = roc_curve(tweet_encoded['irma_rel'],tweet_encoded[f'MM_score_window_{i}'])\n",
    "    plt.plot(fpr,tpr,label=f\"Negative Sample Test: {i}\")\n",
    "plt.plot([0,1],[0,1],linestyle=\"-.\",label=\".5 Threshold\")\n",
    "plt.legend()\n",
    "plt.show()\n",
    "# fig_roc_1.savefig(f'./figures/neg_samp_size_1-10_roc_curve.pdf',bbox_inches='tight')"
   ]
  },
  {
   "cell_type": "code",
   "execution_count": null,
   "metadata": {
    "scrolled": false
   },
   "outputs": [],
   "source": [
    "fig_ns_1 = plt.figure(figsize=(16,8),facecolor='w')\n",
    "\n",
    "for j in range(0,11):\n",
    "    window_label = f\"{comparison_type}: {j}\"\n",
    "    plt.plot(range(101),[100 * len(tweet_encoded[tweet_encoded[f'MM_score_window_{j}'] > i])/len(tweet_encoded) for i in range(101)],label=window_label)\n",
    "plt.xlabel(\"Min-Max Scaled Tweet Score Threshold\")\n",
    "plt.ylabel(\"Percent of Tweets Above Threshold\")\n",
    "plt.title(f\"Percent of Tweets Above Threshold by Word2Vec {comparison_type} ({func_type})\")\n",
    "plt.legend();\n",
    "\n",
    "#fig_ns_1.savefig(f'./figures/{comparison_short}{func_short}PercentTweetsBelow.pdf',bbox_inches='tight')"
   ]
  },
  {
   "cell_type": "code",
   "execution_count": null,
   "metadata": {},
   "outputs": [],
   "source": [
    "from scipy.stats import norm\n",
    "print(np.linspace(1,100,100))\n",
    "#norm.cdf(tweet_encoded['MM_score_window_1'],np.linspace(1,100,100))"
   ]
  },
  {
   "cell_type": "code",
   "execution_count": null,
   "metadata": {},
   "outputs": [],
   "source": [
    "plt.hist(tweet_encoded['MM_score_window_1'].values,bins=100)"
   ]
  },
  {
   "cell_type": "markdown",
   "metadata": {},
   "source": [
    "### F1 Score Comparisons"
   ]
  },
  {
   "cell_type": "code",
   "execution_count": null,
   "metadata": {},
   "outputs": [],
   "source": [
    "f1_window_score_df = pd.DataFrame(np.zeros((101,11)))\n",
    "pre_score_df = pd.DataFrame(np.zeros((101,11)))\n",
    "rec_score_df = pd.DataFrame(np.zeros((101,11)))"
   ]
  },
  {
   "cell_type": "code",
   "execution_count": null,
   "metadata": {},
   "outputs": [],
   "source": [
    "for i in range(0,11):\n",
    "    for j in range(101):\n",
    "        f1_window_score_df.iloc[j,i] = f1_score(tweet_encoded.irma_rel,tweet_encoded[f'MM_score_window_{i}'] > j)\n",
    "        pre_score_df.iloc[j,i] = precision_score(tweet_encoded.irma_rel,tweet_encoded[f'MM_score_window_{i}'] > j)\n",
    "        rec_score_df.iloc[j,i] = recall_score(tweet_encoded.irma_rel,tweet_encoded[f'MM_score_window_{i}'] > j)"
   ]
  },
  {
   "cell_type": "code",
   "execution_count": null,
   "metadata": {},
   "outputs": [],
   "source": [
    "ns_test = pd.DataFrame(pd.concat([f1_window_score_df.idxmax().rename('MM_Score'),f1_window_score_df.max().rename('F1_Score_Max')],axis=1))\n",
    "ns_test['Neg_Samp_Size'] = pd.Series(range(0,11))"
   ]
  },
  {
   "cell_type": "code",
   "execution_count": null,
   "metadata": {},
   "outputs": [],
   "source": [
    "ns_test[['Neg_Samp_Size','MM_Score','F1_Score_Max']]"
   ]
  },
  {
   "cell_type": "code",
   "execution_count": null,
   "metadata": {},
   "outputs": [],
   "source": [
    "print(f1_window_score_df.idxmax().max())\n",
    "print(f1_window_score_df.max().idxmax())"
   ]
  },
  {
   "cell_type": "code",
   "execution_count": null,
   "metadata": {
    "scrolled": false
   },
   "outputs": [],
   "source": [
    "fig_ns_2 = plt.figure(figsize=(16,8),facecolor='w')\n",
    "for i in range(0,11):\n",
    "    if i == f1_window_score_df.max().idxmax():\n",
    "        plt.plot(f1_window_score_df.iloc[:,i],label=f\"{comparison_type}: {i} (F1 Max)\",linestyle=\":\")\n",
    "    else:\n",
    "        plt.plot(f1_window_score_df.iloc[:,i],label=f\"{comparison_type}: {i}\")\n",
    "plt.xlabel(\"Min-Max Scaled Tweet Score Threshold\")\n",
    "plt.ylabel(\"F1 Score of Tweets Above Threshold\")\n",
    "plt.title(f\"F1 Score of Tweets by Word2Vec {comparison_type} ({func_type})\")\n",
    "plt.legend();\n",
    "# fig_ns_2.savefig(f'./figures/neg_samp_size_1-10_F1Score.pdf',bbox_inches='tight')"
   ]
  },
  {
   "cell_type": "code",
   "execution_count": null,
   "metadata": {},
   "outputs": [],
   "source": [
    "tweet_to_score = tweet_full[tweet_full.tweet_text.str.contains('will post again')].tweet_text[0]\n",
    "\n",
    "ScoreTweetFromVectors(tweet_to_score,vector_set=vectors_series.iloc[1])\n",
    "# print(type(tweet_to_score))\n",
    "# print(tweet_to_score)"
   ]
  },
  {
   "cell_type": "code",
   "execution_count": null,
   "metadata": {},
   "outputs": [],
   "source": [
    "print(tweet_to_score)"
   ]
  },
  {
   "cell_type": "code",
   "execution_count": null,
   "metadata": {},
   "outputs": [],
   "source": [
    "tweet_encoded[(tweet_encoded['score_window_1'] > 22.85) & (tweet_encoded['score_window_1'] < 22.88)]['MM_score_window_1']"
   ]
  },
  {
   "cell_type": "code",
   "execution_count": null,
   "metadata": {},
   "outputs": [],
   "source": [
    "roc_auc_score(tweet_encoded['irma_rel'],tweet_encoded['MM_score_window_1'])"
   ]
  },
  {
   "cell_type": "code",
   "execution_count": null,
   "metadata": {},
   "outputs": [],
   "source": [
    "fpr, tpr, thresholds = roc_curve(tweet_encoded['irma_rel'],tweet_encoded['MM_score_window_1'])"
   ]
  },
  {
   "cell_type": "code",
   "execution_count": null,
   "metadata": {},
   "outputs": [],
   "source": [
    "fig_roc_1 = plt.figure(figsize=(12,12),facecolor='w')\n",
    "plt.plot(fpr,tpr,label='Score of Text Module')\n",
    "plt.plot([0,1],[0,1],label='.5 AUROC Threshold')\n",
    "plt.legend()\n",
    "plt.show()\n",
    "# fig_roc_1.savefig(f'./figures/text_mod_roc_curve.pdf',bbox_inches='tight')"
   ]
  },
  {
   "cell_type": "code",
   "execution_count": null,
   "metadata": {
    "scrolled": false
   },
   "outputs": [],
   "source": [
    "fig_roc_1 = plt.figure(figsize=(12,12),facecolor='w')\n",
    "for i in range(1,2):\n",
    "    fpr, tpr, thresholds = roc_curve(tweet_encoded['irma_rel'],tweet_encoded[f'MM_score_window_{i}'])\n",
    "    plt.plot(fpr,tpr,label=f\"Negative Sample Test: {i}\")\n",
    "plt.plot([0,1],[0,1],linestyle=\"-.\",label=\".5 Threshold\")\n",
    "plt.legend()\n",
    "plt.show()\n",
    "# fig_roc_1.savefig(f'./figures/neg_samp_size_1-10_roc_curve.pdf',bbox_inches='tight')"
   ]
  },
  {
   "cell_type": "code",
   "execution_count": null,
   "metadata": {},
   "outputs": [],
   "source": []
  }
 ],
 "metadata": {
  "kernelspec": {
   "display_name": "Python 3 (ipykernel)",
   "language": "python",
   "name": "python3"
  },
  "language_info": {
   "codemirror_mode": {
    "name": "ipython",
    "version": 3
   },
   "file_extension": ".py",
   "mimetype": "text/x-python",
   "name": "python",
   "nbconvert_exporter": "python",
   "pygments_lexer": "ipython3",
   "version": "3.9.13"
  }
 },
 "nbformat": 4,
 "nbformat_minor": 2
}
